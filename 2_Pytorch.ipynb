{
  "nbformat": 4,
  "nbformat_minor": 0,
  "metadata": {
    "colab": {
      "provenance": []
    },
    "kernelspec": {
      "name": "python3",
      "display_name": "Python 3"
    },
    "language_info": {
      "name": "python"
    }
  },
  "cells": [
    {
      "cell_type": "code",
      "execution_count": null,
      "metadata": {
        "colab": {
          "base_uri": "https://localhost:8080/",
          "height": 35
        },
        "id": "qqjqBk041H-e",
        "outputId": "88585fdc-0e42-451c-b7d4-fbe2b27e49dd"
      },
      "outputs": [
        {
          "output_type": "execute_result",
          "data": {
            "text/plain": [
              "'2.3.1+cu121'"
            ],
            "application/vnd.google.colaboratory.intrinsic+json": {
              "type": "string"
            }
          },
          "metadata": {},
          "execution_count": 20
        }
      ],
      "source": [
        "import torch as t\n",
        "from torch import nn #nn contains all building blocks of pytorch for building nueral netwroks\n",
        "import numpy as np\n",
        "import pandas as p\n",
        "import matplotlib.pyplot as plt\n",
        "t.__version__"
      ]
    },
    {
      "cell_type": "code",
      "source": [
        "#create a parameter linear regression formula y = a + bX (where a = bias/intercept & b = weight/slope)\n",
        "weight = 0.7\n",
        "bias = 0.3\n",
        "start = 0\n",
        "end = 1\n",
        "hops = 0.02\n",
        "X = t.arange(start,end,hops).unsqueeze(dim=1)\n",
        "y = bias + weight * X\n",
        "X[:10], y[:10]"
      ],
      "metadata": {
        "colab": {
          "base_uri": "https://localhost:8080/"
        },
        "id": "HIE72qwW9aQj",
        "outputId": "ba88dab2-adb0-4d4a-eb37-ea0755441c37"
      },
      "execution_count": null,
      "outputs": [
        {
          "output_type": "execute_result",
          "data": {
            "text/plain": [
              "(tensor([[0.0000],\n",
              "         [0.0200],\n",
              "         [0.0400],\n",
              "         [0.0600],\n",
              "         [0.0800],\n",
              "         [0.1000],\n",
              "         [0.1200],\n",
              "         [0.1400],\n",
              "         [0.1600],\n",
              "         [0.1800]]),\n",
              " tensor([[0.3000],\n",
              "         [0.3140],\n",
              "         [0.3280],\n",
              "         [0.3420],\n",
              "         [0.3560],\n",
              "         [0.3700],\n",
              "         [0.3840],\n",
              "         [0.3980],\n",
              "         [0.4120],\n",
              "         [0.4260]]))"
            ]
          },
          "metadata": {},
          "execution_count": 21
        }
      ]
    },
    {
      "cell_type": "code",
      "source": [
        "len(X) , len(y)"
      ],
      "metadata": {
        "colab": {
          "base_uri": "https://localhost:8080/"
        },
        "id": "5PVHog3S-QE1",
        "outputId": "deaf6d2f-6459-4974-b163-b7f08d2716eb"
      },
      "execution_count": null,
      "outputs": [
        {
          "output_type": "execute_result",
          "data": {
            "text/plain": [
              "(50, 50)"
            ]
          },
          "metadata": {},
          "execution_count": 22
        }
      ]
    },
    {
      "cell_type": "markdown",
      "source": [
        "Splitting data into training and test sets"
      ],
      "metadata": {
        "id": "9i5v8tMu_KHs"
      }
    },
    {
      "cell_type": "code",
      "source": [
        "#create a train and test split\n",
        "Train_split = int(0.8 * len(X))\n",
        "X_train , y_train = X[:Train_split],y[:Train_split]\n",
        "X_test , y_test = X[Train_split:],y[Train_split:]\n",
        "len(X_train) , len(y_train),len(X_test),len(y_test)"
      ],
      "metadata": {
        "colab": {
          "base_uri": "https://localhost:8080/"
        },
        "id": "LfPOSppD_PHS",
        "outputId": "096b7920-2f66-4094-c2f4-7d03e289d77c"
      },
      "execution_count": null,
      "outputs": [
        {
          "output_type": "execute_result",
          "data": {
            "text/plain": [
              "(40, 40, 10, 10)"
            ]
          },
          "metadata": {},
          "execution_count": 23
        }
      ]
    },
    {
      "cell_type": "code",
      "source": [
        "#visualize our data\n",
        "def plot_prediction(train_data = X_train , train_label= y_train , test_data = X_test, test_label = y_test , prediction = None ):\n",
        "  \"\"\" Plot Train and test data \"\"\"\n",
        "  plt.scatter(train_data , train_label , c = \"b\" , s = 4, label = \"Training data\")\n",
        "\n",
        "  #plot test data\n",
        "  plt.scatter(test_data , test_label , c = \"g\" , s = 4 , label = \"Test data\")\n",
        "\n",
        "  #plot if prediction exists\n",
        "  if prediction is not None:\n",
        "    plt.scatter(test_data , prediction , c = \"r\" , s = 4 , label = \"Predictions\" )\n",
        "  plt.legend(prop={\"size\" : 14})"
      ],
      "metadata": {
        "id": "L8ovpwxfeRoU"
      },
      "execution_count": null,
      "outputs": []
    },
    {
      "cell_type": "code",
      "source": [
        "plot_prediction()"
      ],
      "metadata": {
        "colab": {
          "base_uri": "https://localhost:8080/",
          "height": 430
        },
        "id": "ChzmSalKiW22",
        "outputId": "0606b2eb-f711-4459-9636-3d66c9eb4f1a"
      },
      "execution_count": null,
      "outputs": [
        {
          "output_type": "display_data",
          "data": {
            "text/plain": [
              "<Figure size 640x480 with 1 Axes>"
            ],
            "image/png": "[encoded data removed]"
          },
          "metadata": {}
        }
      ]
    },
    {
      "cell_type": "markdown",
      "source": [
        "what does our model do?\n",
        "It first starts with random values.\n",
        "Then look at our training data and adjust our random values to better represent the ideal values that we used to create the data.\n",
        "\n",
        "It will be done with help of two main algorithm gradient descent and backpropogation.\n",
        "\n",
        "\n",
        "The base class of our neural network module is nn.Module, if its our subclass then we need to override the forward method.\n",
        "\n",
        "\n",
        "torch.optim = this where the optimizers in Pytorch live , they will help with gradient descent algorithm."
      ],
      "metadata": {
        "id": "UQ6dmM3GmpID"
      }
    },
    {
      "cell_type": "code",
      "source": [
        "#Everything in pytorch is being inherited through nn module\n",
        "class linearregressionmodel(nn.Module):\n",
        "  def __init__(self):\n",
        "    super().__init__()\n",
        "    self.weight = nn.Parameter(t.randn(1 , requires_grad= True , dtype = t.float))\n",
        "\n",
        "    self.bias = nn.Parameter(t.randn(1,requires_grad= True , dtype = t.float))\n",
        "\n",
        "    #Forward method to perform computation\n",
        "  def forward(self , x  : t.Tensor) -> t.Tensor: # x is the input\n",
        "    return self.weight * x + self.bias\n"
      ],
      "metadata": {
        "id": "VWxv8dFdkTQl"
      },
      "execution_count": null,
      "outputs": []
    },
    {
      "cell_type": "code",
      "source": [
        "t.manual_seed(42)\n",
        "model_0 = linearregressionmodel()\n",
        "\n",
        "#check the list of parameters in our model\n",
        "\n",
        "list (model_0.parameters()) , model_0.state_dict() #state_dict() help us retreive name for the tensor."
      ],
      "metadata": {
        "colab": {
          "base_uri": "https://localhost:8080/"
        },
        "id": "dD9zA3OBkT_g",
        "outputId": "0519a5bd-70c3-4efe-d04e-818a8e473f4f"
      },
      "execution_count": null,
      "outputs": [
        {
          "output_type": "execute_result",
          "data": {
            "text/plain": [
              "([Parameter containing:\n",
              "  tensor([0.3367], requires_grad=True),\n",
              "  Parameter containing:\n",
              "  tensor([0.1288], requires_grad=True)],\n",
              " OrderedDict([('weight', tensor([0.3367])), ('bias', tensor([0.1288]))]))"
            ]
          },
          "metadata": {},
          "execution_count": 27
        }
      ]
    },
    {
      "cell_type": "markdown",
      "source": [
        "Making prediction using \"torch.inference_mode()\" this will help to check our model's predictive power."
      ],
      "metadata": {
        "id": "E1iEj_GmtVdy"
      }
    },
    {
      "cell_type": "code",
      "source": [
        "with t.inference_mode():\n",
        "  y_prediction = model_0(X_test)\n",
        "y_prediction"
      ],
      "metadata": {
        "colab": {
          "base_uri": "https://localhost:8080/"
        },
        "id": "ilNRV21otryw",
        "outputId": "bcfb669a-d67d-430d-d5de-db0a928babab"
      },
      "execution_count": null,
      "outputs": [
        {
          "output_type": "execute_result",
          "data": {
            "text/plain": [
              "tensor([[0.3982],\n",
              "        [0.4049],\n",
              "        [0.4116],\n",
              "        [0.4184],\n",
              "        [0.4251],\n",
              "        [0.4318],\n",
              "        [0.4386],\n",
              "        [0.4453],\n",
              "        [0.4520],\n",
              "        [0.4588]])"
            ]
          },
          "metadata": {},
          "execution_count": 28
        }
      ]
    },
    {
      "cell_type": "code",
      "source": [
        "plot_prediction(prediction = y_prediction)"
      ],
      "metadata": {
        "colab": {
          "base_uri": "https://localhost:8080/",
          "height": 430
        },
        "id": "cZ9NyxxPu2Sr",
        "outputId": "4c98361b-fd78-4d2f-a85c-c52ecbd115f5"
      },
      "execution_count": null,
      "outputs": [
        {
          "output_type": "display_data",
          "data": {
            "text/plain": [
              "<Figure size 640x480 with 1 Axes>"
            ],
            "image/png": "[encoded data removed]"
          },
          "metadata": {}
        }
      ]
    },
    {
      "cell_type": "markdown",
      "source": [
        "Train model.\n",
        "This help us to improve our model to generate earlier random parameters to known parameter values.\n",
        "\n",
        "One way of improving is with the use of loss function.\n",
        "\n",
        "\n",
        "Loss Function\n",
        "The loss function measures how wrong a model's prediction is for a single data point. It's like checking a single quiz answer to see if it's right or wrong.\n",
        "\n",
        "Cost Function\n",
        "The cost function takes the average of these errors from all data points to see how well the model performs overall. It's like calculating the overall score of a test based on all the individual answers.\n",
        "\n",
        "So, the loss function is about individual errors, while the cost function looks at the average error across all examples.\n",
        "\n",
        "Optimizers : optimizers take this loss function into account and try to adjust our parameters."
      ],
      "metadata": {
        "id": "BIq5dHUVwSFk"
      }
    },
    {
      "cell_type": "code",
      "source": [
        "#setup loss function\n",
        "loss_fn = nn.L1Loss()\n",
        "\n",
        "#setup optimizer\n",
        "optimizer = t.optim.SGD(params= model_0.parameters() , lr = 0.01) # lr is the learning rate and most important hyperparameter to be set."
      ],
      "metadata": {
        "id": "YHDwolXQwrCy"
      },
      "execution_count": null,
      "outputs": []
    },
    {
      "cell_type": "code",
      "source": [
        "t.manual_seed(42)\n",
        "epochs = 200 #epoch is one loop through  data\n",
        "\n",
        "#Track Different Models\n",
        "epoch_count = []\n",
        "loss_count = []\n",
        "test_losscount = []\n",
        "\n",
        "for epoch in range(epochs):\n",
        "  model_0.train() #train mode in Pytorch sets all the parameter that requires gradients to required gradients\n",
        "\n",
        "  #Forward pass\n",
        "  y_predict = model_0(X_train)\n",
        "\n",
        "  #Setup loss function\n",
        "\n",
        "  loss = loss_fn(y_predict , y_train)\n",
        "\n",
        "  #setup optimizer to zero grad\n",
        "\n",
        "  optimizer.zero_grad()\n",
        "\n",
        "  #backward propogation\n",
        "\n",
        "  loss.backward()\n",
        "\n",
        "  #step the optimizer\n",
        "\n",
        "  optimizer.step()\n",
        "\n",
        "\n",
        "  #Testing\n",
        "  model_0.eval() #turns off the different settings in the model not need for evaluation/testing\n",
        "  with t.inference_mode(): #turns off gradient tracking\n",
        "\n",
        "  #Do Forwards pass\n",
        "    test_pred = model_0(X_test)\n",
        "\n",
        "  #loss fundtion\n",
        "    test_loss = loss_fn(X_test , y_test)\n",
        "\n",
        "    if epoch % 20 == 0:\n",
        "      epoch_count.append(epoch)\n",
        "      loss_count.append(loss)\n",
        "      test_losscount.append(test_loss)\n",
        "      print(f\"Epoch : {epoch} | Loss : {loss} | Test_loss : {test_loss}\" )\n",
        "\n",
        "\n",
        "print(model_0.state_dict())"
      ],
      "metadata": {
        "colab": {
          "base_uri": "https://localhost:8080/"
        },
        "id": "udgMckC52aez",
        "outputId": "fee889ab-9155-4a7e-de51-5985c95afeee"
      },
      "execution_count": null,
      "outputs": [
        {
          "output_type": "stream",
          "name": "stdout",
          "text": [
            "Epoch : 0 | Loss : 0.31288138031959534 | Test_loss : 0.032999999821186066\n",
            "Epoch : 20 | Loss : 0.08908725529909134 | Test_loss : 0.032999999821186066\n",
            "Epoch : 40 | Loss : 0.04543796554207802 | Test_loss : 0.032999999821186066\n",
            "Epoch : 60 | Loss : 0.03818932920694351 | Test_loss : 0.032999999821186066\n",
            "Epoch : 80 | Loss : 0.03132382780313492 | Test_loss : 0.032999999821186066\n",
            "Epoch : 100 | Loss : 0.024458957836031914 | Test_loss : 0.032999999821186066\n",
            "Epoch : 120 | Loss : 0.01758546568453312 | Test_loss : 0.032999999821186066\n",
            "Epoch : 140 | Loss : 0.010716589167714119 | Test_loss : 0.032999999821186066\n",
            "Epoch : 160 | Loss : 0.0038517764769494534 | Test_loss : 0.032999999821186066\n",
            "Epoch : 180 | Loss : 0.008932482451200485 | Test_loss : 0.032999999821186066\n",
            "OrderedDict([('weight', tensor([0.6990])), ('bias', tensor([0.3093]))])\n"
          ]
        }
      ]
    },
    {
      "cell_type": "code",
      "source": [
        "plt.plot(epoch_count , np.array(t.tensor(loss_count).cpu().numpy()), label = \"Train Loss\" , c = \"b\")\n",
        "plt.plot(epoch_count , test_losscount, label = \"Test_Loss\" , c = \"g\")\n",
        "plt.ylabel(\"Loss\")\n",
        "plt.xlabel(\"Epoch\")\n",
        "plt.legend();"
      ],
      "metadata": {
        "colab": {
          "base_uri": "https://localhost:8080/",
          "height": 449
        },
        "id": "LAJ96OsbIAkh",
        "outputId": "ae47ee97-991b-4ad7-830e-643e6464285e"
      },
      "execution_count": null,
      "outputs": [
        {
          "output_type": "display_data",
          "data": {
            "text/plain": [
              "<Figure size 640x480 with 1 Axes>"
            ],
            "image/png": "[encoded data removed]"
          },
          "metadata": {}
        }
      ]
    },
    {
      "cell_type": "code",
      "source": [
        "with t.inference_mode():\n",
        "  y_pre = model_0(X_test)\n",
        "y_pre"
      ],
      "metadata": {
        "colab": {
          "base_uri": "https://localhost:8080/"
        },
        "id": "1mFXJohG-FOy",
        "outputId": "27c2b99f-9355-455b-b2b8-26c2048b98c7"
      },
      "execution_count": null,
      "outputs": [
        {
          "output_type": "execute_result",
          "data": {
            "text/plain": [
              "tensor([[0.8685],\n",
              "        [0.8825],\n",
              "        [0.8965],\n",
              "        [0.9105],\n",
              "        [0.9245],\n",
              "        [0.9384],\n",
              "        [0.9524],\n",
              "        [0.9664],\n",
              "        [0.9804],\n",
              "        [0.9944]])"
            ]
          },
          "metadata": {},
          "execution_count": 33
        }
      ]
    },
    {
      "cell_type": "code",
      "source": [
        "plot_prediction(prediction= y_pre)"
      ],
      "metadata": {
        "colab": {
          "base_uri": "https://localhost:8080/",
          "height": 430
        },
        "id": "Y9QWNZyF-eoD",
        "outputId": "09212634-7b96-423a-994d-0577b7311c66"
      },
      "execution_count": null,
      "outputs": [
        {
          "output_type": "display_data",
          "data": {
            "text/plain": [
              "<Figure size 640x480 with 1 Axes>"
            ],
            "image/png": "[encoded data removed]"
          },
          "metadata": {}
        }
      ]
    },
    {
      "cell_type": "markdown",
      "source": [
        "Three main steps to save and load models in pytorch\n",
        "\n",
        "1. 'torch.save' : allows you to save pytorch object\n",
        "2. 'torch.load' : allows you to load saved pytorch object\n",
        "3. 'torch.nn.Module.load_state_dict()' : this allows to load saved model state dictionary."
      ],
      "metadata": {
        "id": "4emUHv2s4FDH"
      }
    },
    {
      "cell_type": "code",
      "source": [
        "from pathlib import Path\n",
        "\n",
        "#Create a model Path/directory\n",
        "Model_path = Path(\"model\")\n",
        "Model_path.mkdir(parents=True ,exist_ok=True)\n",
        "\n",
        "#create model name and save path\n",
        "Model_name = \"01_WorkFlow.pth\"\n",
        "Model_save_path = Model_path / Model_name\n",
        "\n",
        "t.save(obj = model_0.state_dict() , f = Model_save_path)"
      ],
      "metadata": {
        "id": "NvL_Iqym7vq3"
      },
      "execution_count": null,
      "outputs": []
    },
    {
      "cell_type": "code",
      "source": [
        "module_1 = linearregressionmodel()\n",
        "module_1.load_state_dict(t.load(f=Model_save_path))"
      ],
      "metadata": {
        "colab": {
          "base_uri": "https://localhost:8080/"
        },
        "id": "TrFfyV2i-JYz",
        "outputId": "0941445e-8682-453d-9590-f242a3ff048d"
      },
      "execution_count": null,
      "outputs": [
        {
          "output_type": "execute_result",
          "data": {
            "text/plain": [
              "<All keys matched successfully>"
            ]
          },
          "metadata": {},
          "execution_count": 40
        }
      ]
    },
    {
      "cell_type": "code",
      "source": [
        "module_1.eval()\n",
        "with t.inference_mode():\n",
        "  load_prediction = module_1(X_test)\n",
        "load_prediction"
      ],
      "metadata": {
        "colab": {
          "base_uri": "https://localhost:8080/"
        },
        "id": "Ng3Rr0Qu-hIr",
        "outputId": "4dccf0ba-3345-495b-c0e7-4ac9ac492bed"
      },
      "execution_count": null,
      "outputs": [
        {
          "output_type": "execute_result",
          "data": {
            "text/plain": [
              "tensor([[0.8685],\n",
              "        [0.8825],\n",
              "        [0.8965],\n",
              "        [0.9105],\n",
              "        [0.9245],\n",
              "        [0.9384],\n",
              "        [0.9524],\n",
              "        [0.9664],\n",
              "        [0.9804],\n",
              "        [0.9944]])"
            ]
          },
          "metadata": {},
          "execution_count": 44
        }
      ]
    },
    {
      "cell_type": "code",
      "source": [
        "load_prediction == y_pre"
      ],
      "metadata": {
        "id": "WTnBLxuuBmce",
        "outputId": "e726fd98-0409-4c87-8177-8c90aa551374",
        "colab": {
          "base_uri": "https://localhost:8080/"
        }
      },
      "execution_count": null,
      "outputs": [
        {
          "output_type": "execute_result",
          "data": {
            "text/plain": [
              "tensor([[True],\n",
              "        [True],\n",
              "        [True],\n",
              "        [True],\n",
              "        [True],\n",
              "        [True],\n",
              "        [True],\n",
              "        [True],\n",
              "        [True],\n",
              "        [True]])"
            ]
          },
          "metadata": {},
          "execution_count": 45
        }
      ]
    }
  ]
}