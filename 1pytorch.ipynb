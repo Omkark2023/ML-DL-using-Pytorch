{
  "nbformat": 4,
  "nbformat_minor": 0,
  "metadata": {
    "colab": {
      "provenance": [],
      "gpuType": "T4"
    },
    "kernelspec": {
      "name": "python3",
      "display_name": "Python 3"
    },
    "language_info": {
      "name": "python"
    },
    "accelerator": "GPU"
  },
  "cells": [
    {
      "cell_type": "markdown",
      "source": [
        "## 00.PyTorch Fundamentals\n",
        "\n",
        "Resourcs notebook: https://www.learnpytorch.io/00_pytorch_fundamentals/\n",
        "\n",
        "if any  question : https://github.com/mrdbourke/pytorch-deep-learning/discussions"
      ],
      "metadata": {
        "id": "_rA1DSe7DNet"
      }
    },
    {
      "cell_type": "code",
      "source": [
        "import torch\n",
        "import pandas as pd\n",
        "import numpy as np\n",
        "import matplotlib.pyplot as plt\n",
        "print(torch.__version__)\n"
      ],
      "metadata": {
        "colab": {
          "base_uri": "https://localhost:8080/"
        },
        "id": "jjWYYDCEDRBU",
        "outputId": "917d882d-6817-4865-d74f-25fd1459344b"
      },
      "execution_count": null,
      "outputs": [
        {
          "output_type": "stream",
          "name": "stdout",
          "text": [
            "2.3.1+cu121\n"
          ]
        }
      ]
    },
    {
      "cell_type": "code",
      "source": [
        "#scalar\n",
        "scalar = torch.tensor(7)\n",
        "scalar"
      ],
      "metadata": {
        "colab": {
          "base_uri": "https://localhost:8080/"
        },
        "id": "Yirds17YEsOi",
        "outputId": "254da2a8-e2fa-4dcc-dbf5-ad57a0c4afeb"
      },
      "execution_count": null,
      "outputs": [
        {
          "output_type": "execute_result",
          "data": {
            "text/plain": [
              "tensor(7)"
            ]
          },
          "metadata": {},
          "execution_count": 94
        },
        {
          "output_type": "execute_result",
          "data": {
            "text/plain": [
              "tensor(7)"
            ]
          },
          "metadata": {},
          "execution_count": 182
        }
      ]
    },
    {
      "cell_type": "code",
      "source": [
        "scalar.ndim"
      ],
      "metadata": {
        "colab": {
          "base_uri": "https://localhost:8080/"
        },
        "id": "yfzuyv4jF2r-",
        "outputId": "cb08b46e-b392-4c5c-9da6-547faa5e0ec6"
      },
      "execution_count": null,
      "outputs": [
        {
          "output_type": "execute_result",
          "data": {
            "text/plain": [
              "0"
            ]
          },
          "metadata": {},
          "execution_count": 95
        },
        {
          "output_type": "execute_result",
          "data": {
            "text/plain": [
              "0"
            ]
          },
          "metadata": {},
          "execution_count": 183
        }
      ]
    },
    {
      "cell_type": "code",
      "source": [
        "#getting tensor int value\n",
        "scalar.item()"
      ],
      "metadata": {
        "colab": {
          "base_uri": "https://localhost:8080/"
        },
        "id": "QqqNU6ZhF6GQ",
        "outputId": "4c51fffb-e728-4c84-b6d2-b843ec15f9af"
      },
      "execution_count": null,
      "outputs": [
        {
          "output_type": "execute_result",
          "data": {
            "text/plain": [
              "7"
            ]
          },
          "metadata": {},
          "execution_count": 96
        },
        {
          "output_type": "execute_result",
          "data": {
            "text/plain": [
              "7"
            ]
          },
          "metadata": {},
          "execution_count": 184
        }
      ]
    },
    {
      "cell_type": "code",
      "source": [
        "#vector\n",
        "vector = torch.tensor([7,7])\n",
        "vector"
      ],
      "metadata": {
        "colab": {
          "base_uri": "https://localhost:8080/"
        },
        "id": "qEbyAo7zGDiH",
        "outputId": "8b30b419-337b-4635-847c-1a7650f2ee94"
      },
      "execution_count": null,
      "outputs": [
        {
          "output_type": "execute_result",
          "data": {
            "text/plain": [
              "tensor([7, 7])"
            ]
          },
          "metadata": {},
          "execution_count": 97
        },
        {
          "output_type": "execute_result",
          "data": {
            "text/plain": [
              "tensor([7, 7])"
            ]
          },
          "metadata": {},
          "execution_count": 185
        }
      ]
    },
    {
      "cell_type": "code",
      "source": [
        "vector.ndim"
      ],
      "metadata": {
        "colab": {
          "base_uri": "https://localhost:8080/"
        },
        "id": "g-sDbAjPGXnw",
        "outputId": "e4d99641-c31b-4338-9e8d-39b8ac8bb638"
      },
      "execution_count": null,
      "outputs": [
        {
          "output_type": "execute_result",
          "data": {
            "text/plain": [
              "1"
            ]
          },
          "metadata": {},
          "execution_count": 98
        },
        {
          "output_type": "execute_result",
          "data": {
            "text/plain": [
              "1"
            ]
          },
          "metadata": {},
          "execution_count": 186
        }
      ]
    },
    {
      "cell_type": "code",
      "source": [
        "vector.shape"
      ],
      "metadata": {
        "colab": {
          "base_uri": "https://localhost:8080/"
        },
        "id": "unj5hF0EGboo",
        "outputId": "0796a4e0-055a-4b03-da3c-30f5a1df833e"
      },
      "execution_count": null,
      "outputs": [
        {
          "output_type": "execute_result",
          "data": {
            "text/plain": [
              "torch.Size([2])"
            ]
          },
          "metadata": {},
          "execution_count": 99
        },
        {
          "output_type": "execute_result",
          "data": {
            "text/plain": [
              "torch.Size([2])"
            ]
          },
          "metadata": {},
          "execution_count": 187
        }
      ]
    },
    {
      "cell_type": "code",
      "source": [
        "#Matrix\n",
        "matrix = torch.tensor([[7 , 8],[9,10]])\n",
        "matrix"
      ],
      "metadata": {
        "colab": {
          "base_uri": "https://localhost:8080/"
        },
        "id": "P77WARt1Ghuc",
        "outputId": "1b1e2e1f-7993-4f7a-da8c-8612acbd73a0"
      },
      "execution_count": null,
      "outputs": [
        {
          "output_type": "execute_result",
          "data": {
            "text/plain": [
              "tensor([[ 7,  8],\n",
              "        [ 9, 10]])"
            ]
          },
          "metadata": {},
          "execution_count": 100
        },
        {
          "output_type": "execute_result",
          "data": {
            "text/plain": [
              "tensor([[ 7,  8],\n",
              "        [ 9, 10]])"
            ]
          },
          "metadata": {},
          "execution_count": 188
        }
      ]
    },
    {
      "cell_type": "code",
      "source": [
        "matrix.ndim\n",
        "matrix.shape"
      ],
      "metadata": {
        "colab": {
          "base_uri": "https://localhost:8080/"
        },
        "id": "NEN0lCIuGy98",
        "outputId": "06cf06a3-2d50-4509-84d0-2d9811912c45"
      },
      "execution_count": null,
      "outputs": [
        {
          "output_type": "execute_result",
          "data": {
            "text/plain": [
              "torch.Size([2, 2])"
            ]
          },
          "metadata": {},
          "execution_count": 101
        },
        {
          "output_type": "execute_result",
          "data": {
            "text/plain": [
              "torch.Size([2, 2])"
            ]
          },
          "metadata": {},
          "execution_count": 189
        }
      ]
    },
    {
      "cell_type": "code",
      "source": [
        "matrix.ndim"
      ],
      "metadata": {
        "colab": {
          "base_uri": "https://localhost:8080/"
        },
        "id": "LdHHaIxuG6WI",
        "outputId": "bf591a46-db7e-42a5-bd79-4aebee913ea9"
      },
      "execution_count": null,
      "outputs": [
        {
          "output_type": "execute_result",
          "data": {
            "text/plain": [
              "2"
            ]
          },
          "metadata": {},
          "execution_count": 102
        },
        {
          "output_type": "execute_result",
          "data": {
            "text/plain": [
              "2"
            ]
          },
          "metadata": {},
          "execution_count": 190
        }
      ]
    },
    {
      "cell_type": "code",
      "source": [
        "matrix[1]"
      ],
      "metadata": {
        "colab": {
          "base_uri": "https://localhost:8080/"
        },
        "id": "jq1qjjaKG9lQ",
        "outputId": "1118110e-f0ea-43a9-f2ad-ddfb9658c876"
      },
      "execution_count": null,
      "outputs": [
        {
          "output_type": "execute_result",
          "data": {
            "text/plain": [
              "tensor([ 9, 10])"
            ]
          },
          "metadata": {},
          "execution_count": 103
        },
        {
          "output_type": "execute_result",
          "data": {
            "text/plain": [
              "tensor([ 9, 10])"
            ]
          },
          "metadata": {},
          "execution_count": 191
        }
      ]
    },
    {
      "cell_type": "code",
      "source": [
        "#Tensor\n",
        "Tensor = torch.tensor([[[1,2,3],[3,4,5],[1,2,3],[1,2,4]],[[1,2,3],[3,4,5],[1,2,3],[1,2,4]]])\n",
        "Tensor"
      ],
      "metadata": {
        "colab": {
          "base_uri": "https://localhost:8080/"
        },
        "id": "c0eikwkwG_t6",
        "outputId": "68b5d3b2-2707-4d2a-f526-00c18b8e4feb"
      },
      "execution_count": null,
      "outputs": [
        {
          "output_type": "execute_result",
          "data": {
            "text/plain": [
              "tensor([[[1, 2, 3],\n",
              "         [3, 4, 5],\n",
              "         [1, 2, 3],\n",
              "         [1, 2, 4]],\n",
              "\n",
              "        [[1, 2, 3],\n",
              "         [3, 4, 5],\n",
              "         [1, 2, 3],\n",
              "         [1, 2, 4]]])"
            ]
          },
          "metadata": {},
          "execution_count": 104
        },
        {
          "output_type": "execute_result",
          "data": {
            "text/plain": [
              "tensor([[[1, 2, 3],\n",
              "         [3, 4, 5],\n",
              "         [1, 2, 3],\n",
              "         [1, 2, 4]],\n",
              "\n",
              "        [[1, 2, 3],\n",
              "         [3, 4, 5],\n",
              "         [1, 2, 3],\n",
              "         [1, 2, 4]]])"
            ]
          },
          "metadata": {},
          "execution_count": 192
        }
      ]
    },
    {
      "cell_type": "code",
      "source": [
        "Tensor.shape"
      ],
      "metadata": {
        "colab": {
          "base_uri": "https://localhost:8080/"
        },
        "id": "aPGdEhPYHSDS",
        "outputId": "173c123a-d758-4f4b-e925-f7cbd4da8247"
      },
      "execution_count": null,
      "outputs": [
        {
          "output_type": "execute_result",
          "data": {
            "text/plain": [
              "torch.Size([2, 4, 3])"
            ]
          },
          "metadata": {},
          "execution_count": 105
        },
        {
          "output_type": "execute_result",
          "data": {
            "text/plain": [
              "torch.Size([2, 4, 3])"
            ]
          },
          "metadata": {},
          "execution_count": 193
        }
      ]
    },
    {
      "cell_type": "code",
      "source": [
        "Tensor.ndim"
      ],
      "metadata": {
        "colab": {
          "base_uri": "https://localhost:8080/"
        },
        "id": "2qGB8STfHUy6",
        "outputId": "b855d95f-7d8b-49b3-aac1-077b93fd9e20"
      },
      "execution_count": null,
      "outputs": [
        {
          "output_type": "execute_result",
          "data": {
            "text/plain": [
              "3"
            ]
          },
          "metadata": {},
          "execution_count": 106
        },
        {
          "output_type": "execute_result",
          "data": {
            "text/plain": [
              "3"
            ]
          },
          "metadata": {},
          "execution_count": 194
        }
      ]
    },
    {
      "cell_type": "markdown",
      "source": [
        "Random Tensors"
      ],
      "metadata": {
        "id": "zlKnCfCNLDih"
      }
    },
    {
      "cell_type": "code",
      "source": [
        "#create a random tensor\n",
        "random_tensor = torch.rand(2, 3 , 4)\n",
        "random_tensor"
      ],
      "metadata": {
        "colab": {
          "base_uri": "https://localhost:8080/"
        },
        "id": "SS54IpgXHaSg",
        "outputId": "0ae3bb30-711e-489f-e4be-39466189b263"
      },
      "execution_count": null,
      "outputs": [
        {
          "output_type": "execute_result",
          "data": {
            "text/plain": [
              "tensor([[[0.4946, 0.9831, 0.5134, 0.2580],\n",
              "         [0.5002, 0.6152, 0.6283, 0.6972],\n",
              "         [0.5420, 0.5651, 0.0891, 0.8486]],\n",
              "\n",
              "        [[0.1901, 0.3035, 0.6512, 0.4057],\n",
              "         [0.8156, 0.6753, 0.9405, 0.6498],\n",
              "         [0.6329, 0.6110, 0.1847, 0.5707]]])"
            ]
          },
          "metadata": {},
          "execution_count": 107
        },
        {
          "output_type": "execute_result",
          "data": {
            "text/plain": [
              "tensor([[[0.4946, 0.9831, 0.5134, 0.2580],\n",
              "         [0.5002, 0.6152, 0.6283, 0.6972],\n",
              "         [0.5420, 0.5651, 0.0891, 0.8486]],\n",
              "\n",
              "        [[0.1901, 0.3035, 0.6512, 0.4057],\n",
              "         [0.8156, 0.6753, 0.9405, 0.6498],\n",
              "         [0.6329, 0.6110, 0.1847, 0.5707]]])"
            ]
          },
          "metadata": {},
          "execution_count": 195
        }
      ]
    },
    {
      "cell_type": "code",
      "source": [
        "random_tensor.shape"
      ],
      "metadata": {
        "colab": {
          "base_uri": "https://localhost:8080/"
        },
        "id": "R-pg8MEBLv0Q",
        "outputId": "1d8082f2-a8c3-403a-df69-b8c203cf0159"
      },
      "execution_count": null,
      "outputs": [
        {
          "output_type": "execute_result",
          "data": {
            "text/plain": [
              "torch.Size([2, 3, 4])"
            ]
          },
          "metadata": {},
          "execution_count": 108
        },
        {
          "output_type": "execute_result",
          "data": {
            "text/plain": [
              "torch.Size([2, 3, 4])"
            ]
          },
          "metadata": {},
          "execution_count": 196
        }
      ]
    },
    {
      "cell_type": "code",
      "source": [
        "random_tensor.ndim"
      ],
      "metadata": {
        "colab": {
          "base_uri": "https://localhost:8080/"
        },
        "id": "vS76lVE9Ly_-",
        "outputId": "c3f3368d-a3ca-415a-a670-89be7b232cdc"
      },
      "execution_count": null,
      "outputs": [
        {
          "output_type": "execute_result",
          "data": {
            "text/plain": [
              "3"
            ]
          },
          "metadata": {},
          "execution_count": 109
        },
        {
          "output_type": "execute_result",
          "data": {
            "text/plain": [
              "3"
            ]
          },
          "metadata": {},
          "execution_count": 197
        }
      ]
    },
    {
      "cell_type": "code",
      "source": [
        "#random image tensor\n",
        "random_image = torch.rand(size=(3,224,224)) #color channel height and width\n",
        "random_image"
      ],
      "metadata": {
        "colab": {
          "base_uri": "https://localhost:8080/"
        },
        "id": "Rue7K0-JL4fd",
        "outputId": "ee29cf21-f990-4315-db51-eda4d5ef486e"
      },
      "execution_count": null,
      "outputs": [
        {
          "output_type": "execute_result",
          "data": {
            "text/plain": [
              "tensor([[[0.6729, 0.3982, 0.2390,  ..., 0.0706, 0.4915, 0.0271],\n",
              "         [0.1605, 0.2498, 0.2933,  ..., 0.2598, 0.8573, 0.0043],\n",
              "         [0.1394, 0.4947, 0.5618,  ..., 0.4996, 0.0972, 0.5370],\n",
              "         ...,\n",
              "         [0.0534, 0.7938, 0.7199,  ..., 0.9415, 0.7492, 0.2395],\n",
              "         [0.9476, 0.6589, 0.7405,  ..., 0.4703, 0.3070, 0.9822],\n",
              "         [0.6930, 0.3673, 0.0524,  ..., 0.1304, 0.2537, 0.4038]],\n",
              "\n",
              "        [[0.7338, 0.9835, 0.2133,  ..., 0.5384, 0.8942, 0.6525],\n",
              "         [0.0844, 0.4533, 0.9153,  ..., 0.7265, 0.8840, 0.7803],\n",
              "         [0.0502, 0.3853, 0.2367,  ..., 0.4656, 0.1035, 0.7067],\n",
              "         ...,\n",
              "         [0.8435, 0.0407, 0.3668,  ..., 0.4787, 0.3913, 0.7235],\n",
              "         [0.5404, 0.9414, 0.1325,  ..., 0.7289, 0.6707, 0.7171],\n",
              "         [0.2546, 0.2445, 0.0889,  ..., 0.4869, 0.6404, 0.7220]],\n",
              "\n",
              "        [[0.9101, 0.7012, 0.0682,  ..., 0.1552, 0.3965, 0.7666],\n",
              "         [0.6416, 0.6428, 0.1920,  ..., 0.1617, 0.0357, 0.9295],\n",
              "         [0.7122, 0.6062, 0.8346,  ..., 0.1378, 0.6569, 0.9392],\n",
              "         ...,\n",
              "         [0.3134, 0.9720, 0.9213,  ..., 0.3196, 0.4851, 0.7223],\n",
              "         [0.1463, 0.8472, 0.0013,  ..., 0.6137, 0.6535, 0.6238],\n",
              "         [0.0191, 0.4405, 0.9991,  ..., 0.7548, 0.6045, 0.4712]]])"
            ]
          },
          "metadata": {},
          "execution_count": 110
        },
        {
          "output_type": "execute_result",
          "data": {
            "text/plain": [
              "tensor([[[0.6729, 0.3982, 0.2390,  ..., 0.0706, 0.4915, 0.0271],\n",
              "         [0.1605, 0.2498, 0.2933,  ..., 0.2598, 0.8573, 0.0043],\n",
              "         [0.1394, 0.4947, 0.5618,  ..., 0.4996, 0.0972, 0.5370],\n",
              "         ...,\n",
              "         [0.0534, 0.7938, 0.7199,  ..., 0.9415, 0.7492, 0.2395],\n",
              "         [0.9476, 0.6589, 0.7405,  ..., 0.4703, 0.3070, 0.9822],\n",
              "         [0.6930, 0.3673, 0.0524,  ..., 0.1304, 0.2537, 0.4038]],\n",
              "\n",
              "        [[0.7338, 0.9835, 0.2133,  ..., 0.5384, 0.8942, 0.6525],\n",
              "         [0.0844, 0.4533, 0.9153,  ..., 0.7265, 0.8840, 0.7803],\n",
              "         [0.0502, 0.3853, 0.2367,  ..., 0.4656, 0.1035, 0.7067],\n",
              "         ...,\n",
              "         [0.8435, 0.0407, 0.3668,  ..., 0.4787, 0.3913, 0.7235],\n",
              "         [0.5404, 0.9414, 0.1325,  ..., 0.7289, 0.6707, 0.7171],\n",
              "         [0.2546, 0.2445, 0.0889,  ..., 0.4869, 0.6404, 0.7220]],\n",
              "\n",
              "        [[0.9101, 0.7012, 0.0682,  ..., 0.1552, 0.3965, 0.7666],\n",
              "         [0.6416, 0.6428, 0.1920,  ..., 0.1617, 0.0357, 0.9295],\n",
              "         [0.7122, 0.6062, 0.8346,  ..., 0.1378, 0.6569, 0.9392],\n",
              "         ...,\n",
              "         [0.3134, 0.9720, 0.9213,  ..., 0.3196, 0.4851, 0.7223],\n",
              "         [0.1463, 0.8472, 0.0013,  ..., 0.6137, 0.6535, 0.6238],\n",
              "         [0.0191, 0.4405, 0.9991,  ..., 0.7548, 0.6045, 0.4712]]])"
            ]
          },
          "metadata": {},
          "execution_count": 198
        }
      ]
    },
    {
      "cell_type": "code",
      "source": [
        "random_image.shape , random_image.ndim"
      ],
      "metadata": {
        "colab": {
          "base_uri": "https://localhost:8080/"
        },
        "id": "VM1LsaRRM6jF",
        "outputId": "42179fc1-e07c-4e31-fb7a-8f4457b126cd"
      },
      "execution_count": null,
      "outputs": [
        {
          "output_type": "execute_result",
          "data": {
            "text/plain": [
              "(torch.Size([3, 224, 224]), 3)"
            ]
          },
          "metadata": {},
          "execution_count": 111
        },
        {
          "output_type": "execute_result",
          "data": {
            "text/plain": [
              "(torch.Size([3, 224, 224]), 3)"
            ]
          },
          "metadata": {},
          "execution_count": 199
        }
      ]
    },
    {
      "cell_type": "code",
      "source": [
        "#zero's tensor\n",
        "zero = torch.zeros(3,4)\n",
        "zero"
      ],
      "metadata": {
        "colab": {
          "base_uri": "https://localhost:8080/"
        },
        "id": "5C3TdV0CNK-g",
        "outputId": "23b47f1e-6aec-4cf0-fc63-9a954a76827f"
      },
      "execution_count": null,
      "outputs": [
        {
          "output_type": "execute_result",
          "data": {
            "text/plain": [
              "tensor([[0., 0., 0., 0.],\n",
              "        [0., 0., 0., 0.],\n",
              "        [0., 0., 0., 0.]])"
            ]
          },
          "metadata": {},
          "execution_count": 112
        },
        {
          "output_type": "execute_result",
          "data": {
            "text/plain": [
              "tensor([[0., 0., 0., 0.],\n",
              "        [0., 0., 0., 0.],\n",
              "        [0., 0., 0., 0.]])"
            ]
          },
          "metadata": {},
          "execution_count": 200
        }
      ]
    },
    {
      "cell_type": "code",
      "source": [
        "zero * random_tensor"
      ],
      "metadata": {
        "colab": {
          "base_uri": "https://localhost:8080/"
        },
        "id": "lKs3iJE0PGvg",
        "outputId": "5d508459-f2fe-4089-dfbd-905354bf6fa7"
      },
      "execution_count": null,
      "outputs": [
        {
          "output_type": "execute_result",
          "data": {
            "text/plain": [
              "tensor([[[0., 0., 0., 0.],\n",
              "         [0., 0., 0., 0.],\n",
              "         [0., 0., 0., 0.]],\n",
              "\n",
              "        [[0., 0., 0., 0.],\n",
              "         [0., 0., 0., 0.],\n",
              "         [0., 0., 0., 0.]]])"
            ]
          },
          "metadata": {},
          "execution_count": 113
        },
        {
          "output_type": "execute_result",
          "data": {
            "text/plain": [
              "tensor([[[0., 0., 0., 0.],\n",
              "         [0., 0., 0., 0.],\n",
              "         [0., 0., 0., 0.]],\n",
              "\n",
              "        [[0., 0., 0., 0.],\n",
              "         [0., 0., 0., 0.],\n",
              "         [0., 0., 0., 0.]]])"
            ]
          },
          "metadata": {},
          "execution_count": 201
        }
      ]
    },
    {
      "cell_type": "code",
      "source": [
        "zero.dtype"
      ],
      "metadata": {
        "colab": {
          "base_uri": "https://localhost:8080/"
        },
        "id": "iZu9qd4LPKDu",
        "outputId": "fd3bbf66-48f3-4392-9ee9-0ff4a036aaa0"
      },
      "execution_count": null,
      "outputs": [
        {
          "output_type": "execute_result",
          "data": {
            "text/plain": [
              "torch.float32"
            ]
          },
          "metadata": {},
          "execution_count": 114
        },
        {
          "output_type": "execute_result",
          "data": {
            "text/plain": [
              "torch.float32"
            ]
          },
          "metadata": {},
          "execution_count": 202
        }
      ]
    },
    {
      "cell_type": "code",
      "source": [
        "random_tensor.dtype"
      ],
      "metadata": {
        "colab": {
          "base_uri": "https://localhost:8080/"
        },
        "id": "5XT4pj8kPPDg",
        "outputId": "6b68507c-b2ca-4745-cc45-690138c9e411"
      },
      "execution_count": null,
      "outputs": [
        {
          "output_type": "execute_result",
          "data": {
            "text/plain": [
              "torch.float32"
            ]
          },
          "metadata": {},
          "execution_count": 115
        },
        {
          "output_type": "execute_result",
          "data": {
            "text/plain": [
              "torch.float32"
            ]
          },
          "metadata": {},
          "execution_count": 203
        }
      ]
    },
    {
      "cell_type": "code",
      "source": [
        "matrix.dtype"
      ],
      "metadata": {
        "colab": {
          "base_uri": "https://localhost:8080/"
        },
        "id": "VLIVbQvOPRgu",
        "outputId": "819c73a3-6ba4-4a0a-c1fe-6f1b24e16425"
      },
      "execution_count": null,
      "outputs": [
        {
          "output_type": "execute_result",
          "data": {
            "text/plain": [
              "torch.int64"
            ]
          },
          "metadata": {},
          "execution_count": 116
        },
        {
          "output_type": "execute_result",
          "data": {
            "text/plain": [
              "torch.int64"
            ]
          },
          "metadata": {},
          "execution_count": 204
        }
      ]
    },
    {
      "cell_type": "code",
      "source": [
        "scalar.dtype"
      ],
      "metadata": {
        "colab": {
          "base_uri": "https://localhost:8080/"
        },
        "id": "wWyXLaXFPWkv",
        "outputId": "b3f5fb59-501b-408c-ae98-97e01bb2d11c"
      },
      "execution_count": null,
      "outputs": [
        {
          "output_type": "execute_result",
          "data": {
            "text/plain": [
              "torch.int64"
            ]
          },
          "metadata": {},
          "execution_count": 117
        },
        {
          "output_type": "execute_result",
          "data": {
            "text/plain": [
              "torch.int64"
            ]
          },
          "metadata": {},
          "execution_count": 205
        }
      ]
    },
    {
      "cell_type": "code",
      "source": [
        "vector.dtype"
      ],
      "metadata": {
        "colab": {
          "base_uri": "https://localhost:8080/"
        },
        "id": "Vkzakl-zPeHW",
        "outputId": "e3659731-17a7-40b7-851e-ca49bdb2e459"
      },
      "execution_count": null,
      "outputs": [
        {
          "output_type": "execute_result",
          "data": {
            "text/plain": [
              "torch.int64"
            ]
          },
          "metadata": {},
          "execution_count": 118
        },
        {
          "output_type": "execute_result",
          "data": {
            "text/plain": [
              "torch.int64"
            ]
          },
          "metadata": {},
          "execution_count": 206
        }
      ]
    },
    {
      "cell_type": "code",
      "source": [
        "#ones tensor\n",
        "one = torch.ones(3,4)\n",
        "one"
      ],
      "metadata": {
        "colab": {
          "base_uri": "https://localhost:8080/"
        },
        "id": "Hw3DwDTqPgZS",
        "outputId": "c8e36556-bf43-42be-fd00-4bf524e046e1"
      },
      "execution_count": null,
      "outputs": [
        {
          "output_type": "execute_result",
          "data": {
            "text/plain": [
              "tensor([[1., 1., 1., 1.],\n",
              "        [1., 1., 1., 1.],\n",
              "        [1., 1., 1., 1.]])"
            ]
          },
          "metadata": {},
          "execution_count": 119
        },
        {
          "output_type": "execute_result",
          "data": {
            "text/plain": [
              "tensor([[1., 1., 1., 1.],\n",
              "        [1., 1., 1., 1.],\n",
              "        [1., 1., 1., 1.]])"
            ]
          },
          "metadata": {},
          "execution_count": 207
        }
      ]
    },
    {
      "cell_type": "code",
      "source": [
        "#creating a range\n",
        "one_to_ten_range = torch.arange(0,11,2) #start stop hops\n",
        "one_to_ten_range"
      ],
      "metadata": {
        "colab": {
          "base_uri": "https://localhost:8080/"
        },
        "id": "IfuDkhgIPudL",
        "outputId": "3a6271e1-b2f7-465d-c430-4a954b4a3b8f"
      },
      "execution_count": null,
      "outputs": [
        {
          "output_type": "execute_result",
          "data": {
            "text/plain": [
              "tensor([ 0,  2,  4,  6,  8, 10])"
            ]
          },
          "metadata": {},
          "execution_count": 120
        },
        {
          "output_type": "execute_result",
          "data": {
            "text/plain": [
              "tensor([ 0,  2,  4,  6,  8, 10])"
            ]
          },
          "metadata": {},
          "execution_count": 208
        }
      ]
    },
    {
      "cell_type": "code",
      "source": [
        "one_to_ten_range.shape"
      ],
      "metadata": {
        "colab": {
          "base_uri": "https://localhost:8080/"
        },
        "id": "u00VGxE0TdWr",
        "outputId": "cae5b2f5-76f6-43f4-e7c5-d377542f7c1d"
      },
      "execution_count": null,
      "outputs": [
        {
          "output_type": "execute_result",
          "data": {
            "text/plain": [
              "torch.Size([6])"
            ]
          },
          "metadata": {},
          "execution_count": 121
        },
        {
          "output_type": "execute_result",
          "data": {
            "text/plain": [
              "torch.Size([6])"
            ]
          },
          "metadata": {},
          "execution_count": 209
        }
      ]
    },
    {
      "cell_type": "code",
      "source": [
        "#Creating a list of ten to zeroes\n",
        "ten_to_zeroes = torch.zeros_like(input= one_to_ten_range)\n",
        "ten_to_zeroes"
      ],
      "metadata": {
        "colab": {
          "base_uri": "https://localhost:8080/"
        },
        "id": "oNuWZAwKFjT-",
        "outputId": "5524a5d3-36b6-4991-f228-00f8e9c9b60b"
      },
      "execution_count": null,
      "outputs": [
        {
          "output_type": "execute_result",
          "data": {
            "text/plain": [
              "tensor([0, 0, 0, 0, 0, 0])"
            ]
          },
          "metadata": {},
          "execution_count": 122
        },
        {
          "output_type": "execute_result",
          "data": {
            "text/plain": [
              "tensor([0, 0, 0, 0, 0, 0])"
            ]
          },
          "metadata": {},
          "execution_count": 210
        }
      ]
    },
    {
      "cell_type": "code",
      "source": [
        "#creating a list with ones\n",
        "ten_to_one = torch.ones_like(input = one_to_ten_range)\n",
        "ten_to_one"
      ],
      "metadata": {
        "colab": {
          "base_uri": "https://localhost:8080/"
        },
        "id": "FZ7T3e5YGC13",
        "outputId": "b647dbc6-52bc-47a8-ea84-ce66e64d061b"
      },
      "execution_count": null,
      "outputs": [
        {
          "output_type": "execute_result",
          "data": {
            "text/plain": [
              "tensor([1, 1, 1, 1, 1, 1])"
            ]
          },
          "metadata": {},
          "execution_count": 123
        },
        {
          "output_type": "execute_result",
          "data": {
            "text/plain": [
              "tensor([1, 1, 1, 1, 1, 1])"
            ]
          },
          "metadata": {},
          "execution_count": 211
        }
      ]
    },
    {
      "cell_type": "code",
      "source": [
        "#Float 32 tensor\n",
        "float32_tensor = torch.tensor([[1,2] , [2,3] ,[3,4]])"
      ],
      "metadata": {
        "id": "qqFou9VCGli9"
      },
      "execution_count": null,
      "outputs": []
    },
    {
      "cell_type": "code",
      "source": [
        "float32_tensor.dtype"
      ],
      "metadata": {
        "colab": {
          "base_uri": "https://localhost:8080/"
        },
        "id": "p9k4UhJ4JUxF",
        "outputId": "38c31131-a0e4-47e7-98c1-6b4f1834a771"
      },
      "execution_count": null,
      "outputs": [
        {
          "output_type": "execute_result",
          "data": {
            "text/plain": [
              "torch.int64"
            ]
          },
          "metadata": {},
          "execution_count": 125
        },
        {
          "output_type": "execute_result",
          "data": {
            "text/plain": [
              "torch.int64"
            ]
          },
          "metadata": {},
          "execution_count": 213
        }
      ]
    },
    {
      "cell_type": "code",
      "source": [
        "float16_tensor = float32_tensor.type(torch.float16)\n",
        "float16_tensor"
      ],
      "metadata": {
        "colab": {
          "base_uri": "https://localhost:8080/"
        },
        "id": "QodNDvmvJZtr",
        "outputId": "d47319ca-bae7-434f-ab85-aaf6a3b3c391"
      },
      "execution_count": null,
      "outputs": [
        {
          "output_type": "execute_result",
          "data": {
            "text/plain": [
              "tensor([[1., 2.],\n",
              "        [2., 3.],\n",
              "        [3., 4.]], dtype=torch.float16)"
            ]
          },
          "metadata": {},
          "execution_count": 126
        },
        {
          "output_type": "execute_result",
          "data": {
            "text/plain": [
              "tensor([[1., 2.],\n",
              "        [2., 3.],\n",
              "        [3., 4.]], dtype=torch.float16)"
            ]
          },
          "metadata": {},
          "execution_count": 214
        }
      ]
    },
    {
      "cell_type": "code",
      "source": [
        "float16_tensor * float32_tensor"
      ],
      "metadata": {
        "colab": {
          "base_uri": "https://localhost:8080/"
        },
        "id": "cMk4Zj-lJ3vs",
        "outputId": "1cf508ed-2601-4a2a-f747-6f8268a91420"
      },
      "execution_count": null,
      "outputs": [
        {
          "output_type": "execute_result",
          "data": {
            "text/plain": [
              "tensor([[ 1.,  4.],\n",
              "        [ 4.,  9.],\n",
              "        [ 9., 16.]], dtype=torch.float16)"
            ]
          },
          "metadata": {},
          "execution_count": 127
        },
        {
          "output_type": "execute_result",
          "data": {
            "text/plain": [
              "tensor([[ 1.,  4.],\n",
              "        [ 4.,  9.],\n",
              "        [ 9., 16.]], dtype=torch.float16)"
            ]
          },
          "metadata": {},
          "execution_count": 215
        }
      ]
    },
    {
      "cell_type": "code",
      "source": [
        "#test on tensor\n",
        "some_tensor = torch.rand(3,5)\n",
        "some_tensor"
      ],
      "metadata": {
        "colab": {
          "base_uri": "https://localhost:8080/"
        },
        "id": "5LzN0YL5KlEX",
        "outputId": "1912800d-0855-4f7b-c985-af2813a92454"
      },
      "execution_count": null,
      "outputs": [
        {
          "output_type": "execute_result",
          "data": {
            "text/plain": [
              "tensor([[0.4727, 0.9407, 0.6810, 0.2139, 0.3434],\n",
              "        [0.7817, 0.0745, 0.7096, 0.5886, 0.6275],\n",
              "        [0.4120, 0.4124, 0.5147, 0.8076, 0.8826]])"
            ]
          },
          "metadata": {},
          "execution_count": 128
        },
        {
          "output_type": "execute_result",
          "data": {
            "text/plain": [
              "tensor([[0.4727, 0.9407, 0.6810, 0.2139, 0.3434],\n",
              "        [0.7817, 0.0745, 0.7096, 0.5886, 0.6275],\n",
              "        [0.4120, 0.4124, 0.5147, 0.8076, 0.8826]])"
            ]
          },
          "metadata": {},
          "execution_count": 216
        }
      ]
    },
    {
      "cell_type": "code",
      "source": [
        "some_tensor.dtype, some_tensor.shape, some_tensor.device"
      ],
      "metadata": {
        "colab": {
          "base_uri": "https://localhost:8080/"
        },
        "id": "mIIhHBG-M1yF",
        "outputId": "81a8a491-5af7-4109-8a0e-385de432fce8"
      },
      "execution_count": null,
      "outputs": [
        {
          "output_type": "execute_result",
          "data": {
            "text/plain": [
              "(torch.float32, torch.Size([3, 5]), device(type='cpu'))"
            ]
          },
          "metadata": {},
          "execution_count": 129
        },
        {
          "output_type": "execute_result",
          "data": {
            "text/plain": [
              "(torch.float32, torch.Size([3, 5]), device(type='cpu'))"
            ]
          },
          "metadata": {},
          "execution_count": 217
        }
      ]
    },
    {
      "cell_type": "code",
      "source": [
        "some_tensor.type(torch.float32)\n",
        "some_tensor.dtype"
      ],
      "metadata": {
        "colab": {
          "base_uri": "https://localhost:8080/"
        },
        "id": "pIxoPi4nNJaY",
        "outputId": "f0f7a53b-bc7d-432f-cb23-f097cf2d944c"
      },
      "execution_count": null,
      "outputs": [
        {
          "output_type": "execute_result",
          "data": {
            "text/plain": [
              "torch.float32"
            ]
          },
          "metadata": {},
          "execution_count": 130
        },
        {
          "output_type": "execute_result",
          "data": {
            "text/plain": [
              "torch.float32"
            ]
          },
          "metadata": {},
          "execution_count": 218
        }
      ]
    },
    {
      "cell_type": "code",
      "source": [
        "new_some_tensor = some_tensor.type(torch.half)\n",
        "new_some_tensor, new_some_tensor.device"
      ],
      "metadata": {
        "colab": {
          "base_uri": "https://localhost:8080/"
        },
        "id": "6RW9RNJkOJJJ",
        "outputId": "6b8259be-b707-4be2-c024-1b21582069c8"
      },
      "execution_count": null,
      "outputs": [
        {
          "output_type": "execute_result",
          "data": {
            "text/plain": [
              "(tensor([[0.4727, 0.9409, 0.6812, 0.2139, 0.3433],\n",
              "         [0.7817, 0.0745, 0.7095, 0.5884, 0.6274],\n",
              "         [0.4121, 0.4124, 0.5146, 0.8076, 0.8828]], dtype=torch.float16),\n",
              " device(type='cpu'))"
            ]
          },
          "metadata": {},
          "execution_count": 131
        },
        {
          "output_type": "execute_result",
          "data": {
            "text/plain": [
              "(tensor([[0.4727, 0.9409, 0.6812, 0.2139, 0.3433],\n",
              "         [0.7817, 0.0745, 0.7095, 0.5884, 0.6274],\n",
              "         [0.4121, 0.4124, 0.5146, 0.8076, 0.8828]], dtype=torch.float16),\n",
              " device(type='cpu'))"
            ]
          },
          "metadata": {},
          "execution_count": 219
        }
      ]
    },
    {
      "cell_type": "code",
      "source": [
        "#tensor manipulation\n",
        "tensors = torch.rand(1,2)\n",
        "tensors"
      ],
      "metadata": {
        "colab": {
          "base_uri": "https://localhost:8080/"
        },
        "id": "0Tfo6NN4Or7o",
        "outputId": "aa8f6a58-0934-466c-de4f-2921d04b34e7"
      },
      "execution_count": null,
      "outputs": [
        {
          "output_type": "execute_result",
          "data": {
            "text/plain": [
              "tensor([[0.8087, 0.0931]])"
            ]
          },
          "metadata": {},
          "execution_count": 132
        },
        {
          "output_type": "execute_result",
          "data": {
            "text/plain": [
              "tensor([[0.8087, 0.0931]])"
            ]
          },
          "metadata": {},
          "execution_count": 220
        }
      ]
    },
    {
      "cell_type": "code",
      "source": [
        "tensors + 10"
      ],
      "metadata": {
        "colab": {
          "base_uri": "https://localhost:8080/"
        },
        "id": "GGi0CWvyxcE_",
        "outputId": "99d8843a-eaef-4939-908a-43821e4d5dcf"
      },
      "execution_count": null,
      "outputs": [
        {
          "output_type": "execute_result",
          "data": {
            "text/plain": [
              "tensor([[10.8087, 10.0931]])"
            ]
          },
          "metadata": {},
          "execution_count": 133
        },
        {
          "output_type": "execute_result",
          "data": {
            "text/plain": [
              "tensor([[10.8087, 10.0931]])"
            ]
          },
          "metadata": {},
          "execution_count": 221
        }
      ]
    },
    {
      "cell_type": "code",
      "source": [
        "tensors - 10"
      ],
      "metadata": {
        "colab": {
          "base_uri": "https://localhost:8080/"
        },
        "id": "9D-Ly6aQxeuN",
        "outputId": "a0f8d0a9-cd8e-4df1-96ba-6ee3798e90e2"
      },
      "execution_count": null,
      "outputs": [
        {
          "output_type": "execute_result",
          "data": {
            "text/plain": [
              "tensor([[-9.1913, -9.9069]])"
            ]
          },
          "metadata": {},
          "execution_count": 134
        },
        {
          "output_type": "execute_result",
          "data": {
            "text/plain": [
              "tensor([[-9.1913, -9.9069]])"
            ]
          },
          "metadata": {},
          "execution_count": 222
        }
      ]
    },
    {
      "cell_type": "code",
      "source": [
        "tensors * 10"
      ],
      "metadata": {
        "colab": {
          "base_uri": "https://localhost:8080/"
        },
        "id": "zu5bKA2hxguB",
        "outputId": "c0d69280-a19f-4905-d99f-40bbfd92c54b"
      },
      "execution_count": null,
      "outputs": [
        {
          "output_type": "execute_result",
          "data": {
            "text/plain": [
              "tensor([[8.0868, 0.9307]])"
            ]
          },
          "metadata": {},
          "execution_count": 135
        },
        {
          "output_type": "execute_result",
          "data": {
            "text/plain": [
              "tensor([[8.0868, 0.9307]])"
            ]
          },
          "metadata": {},
          "execution_count": 223
        }
      ]
    },
    {
      "cell_type": "code",
      "source": [
        "tensors / 10"
      ],
      "metadata": {
        "colab": {
          "base_uri": "https://localhost:8080/"
        },
        "id": "nzw9Uk8qxjNy",
        "outputId": "9aed4b0b-d76d-4dcf-8407-ce693882941e"
      },
      "execution_count": null,
      "outputs": [
        {
          "output_type": "execute_result",
          "data": {
            "text/plain": [
              "tensor([[0.0809, 0.0093]])"
            ]
          },
          "metadata": {},
          "execution_count": 136
        },
        {
          "output_type": "execute_result",
          "data": {
            "text/plain": [
              "tensor([[0.0809, 0.0093]])"
            ]
          },
          "metadata": {},
          "execution_count": 224
        }
      ]
    },
    {
      "cell_type": "code",
      "source": [
        "tensors.add(10)"
      ],
      "metadata": {
        "colab": {
          "base_uri": "https://localhost:8080/"
        },
        "id": "MbQo3GLaxmTU",
        "outputId": "0186f44d-00bb-4657-f5f8-bd1fd0f96b55"
      },
      "execution_count": null,
      "outputs": [
        {
          "output_type": "execute_result",
          "data": {
            "text/plain": [
              "tensor([[10.8087, 10.0931]])"
            ]
          },
          "metadata": {},
          "execution_count": 137
        },
        {
          "output_type": "execute_result",
          "data": {
            "text/plain": [
              "tensor([[10.8087, 10.0931]])"
            ]
          },
          "metadata": {},
          "execution_count": 225
        }
      ]
    },
    {
      "cell_type": "code",
      "source": [
        "print(tensors, \"*\" , tensors)\n",
        "print(f\"Equals:{tensors * tensors}\")"
      ],
      "metadata": {
        "colab": {
          "base_uri": "https://localhost:8080/"
        },
        "id": "NJVVgoq7xukz",
        "outputId": "f908d296-4653-43a0-f453-a700f155dd52"
      },
      "execution_count": null,
      "outputs": [
        {
          "output_type": "stream",
          "name": "stdout",
          "text": [
            "tensor([[0.8087, 0.0931]]) * tensor([[0.8087, 0.0931]])\n",
            "Equals:tensor([[0.6540, 0.0087]])\n",
            "tensor([[0.8087, 0.0931]]) * tensor([[0.8087, 0.0931]])\n",
            "Equals:tensor([[0.6540, 0.0087]])\n"
          ]
        }
      ]
    },
    {
      "cell_type": "code",
      "source": [
        "#Matrix multiplication\n",
        "Matrixmul = torch.tensor([1,2,3])\n",
        "Matrixmul"
      ],
      "metadata": {
        "colab": {
          "base_uri": "https://localhost:8080/"
        },
        "id": "VsDtu2ryzqLc",
        "outputId": "cdb77d34-2de6-4a0e-e889-7f2ac73c0d53"
      },
      "execution_count": null,
      "outputs": [
        {
          "output_type": "execute_result",
          "data": {
            "text/plain": [
              "tensor([1, 2, 3])"
            ]
          },
          "metadata": {},
          "execution_count": 139
        },
        {
          "output_type": "execute_result",
          "data": {
            "text/plain": [
              "tensor([1, 2, 3])"
            ]
          },
          "metadata": {},
          "execution_count": 227
        }
      ]
    },
    {
      "cell_type": "code",
      "source": [
        "torch.matmul(Matrixmul,Matrixmul)"
      ],
      "metadata": {
        "colab": {
          "base_uri": "https://localhost:8080/"
        },
        "id": "05u3mG9I0J9C",
        "outputId": "2469431e-9a9c-455b-9fc2-21d1bb803114"
      },
      "execution_count": null,
      "outputs": [
        {
          "output_type": "execute_result",
          "data": {
            "text/plain": [
              "tensor(14)"
            ]
          },
          "metadata": {},
          "execution_count": 140
        },
        {
          "output_type": "execute_result",
          "data": {
            "text/plain": [
              "tensor(14)"
            ]
          },
          "metadata": {},
          "execution_count": 228
        }
      ]
    },
    {
      "cell_type": "code",
      "source": [
        "%%time\n",
        "value = 0\n",
        "for i in range(len(Matrixmul)):\n",
        "  value += Matrixmul[i] * Matrixmul[i]\n",
        "print(value)"
      ],
      "metadata": {
        "colab": {
          "base_uri": "https://localhost:8080/"
        },
        "id": "8uGhcOJ109X_",
        "outputId": "de95dd79-e484-446c-d8a3-c56a3026b7ce"
      },
      "execution_count": null,
      "outputs": [
        {
          "output_type": "stream",
          "name": "stdout",
          "text": [
            "tensor(14)\n",
            "CPU times: user 1.88 ms, sys: 66 µs, total: 1.94 ms\n",
            "Wall time: 4.27 ms\n",
            "tensor(14)\n",
            "CPU times: user 1.1 ms, sys: 0 ns, total: 1.1 ms\n",
            "Wall time: 1.74 ms\n"
          ]
        }
      ]
    },
    {
      "cell_type": "code",
      "source": [
        "%%time\n",
        "torch.matmul(Matrixmul,Matrixmul)"
      ],
      "metadata": {
        "colab": {
          "base_uri": "https://localhost:8080/"
        },
        "id": "R6F2HW1j1jEr",
        "outputId": "444cc60f-da08-4270-e6e8-01ac8e9027de"
      },
      "execution_count": null,
      "outputs": [
        {
          "output_type": "stream",
          "name": "stdout",
          "text": [
            "CPU times: user 42 µs, sys: 0 ns, total: 42 µs\n",
            "Wall time: 46 µs\n"
          ]
        },
        {
          "output_type": "execute_result",
          "data": {
            "text/plain": [
              "tensor(14)"
            ]
          },
          "metadata": {},
          "execution_count": 142
        },
        {
          "output_type": "stream",
          "name": "stdout",
          "text": [
            "CPU times: user 39 µs, sys: 3 µs, total: 42 µs\n",
            "Wall time: 45.5 µs\n"
          ]
        },
        {
          "output_type": "execute_result",
          "data": {
            "text/plain": [
              "tensor(14)"
            ]
          },
          "metadata": {},
          "execution_count": 230
        }
      ]
    },
    {
      "cell_type": "code",
      "source": [
        "Matrixmul.subtract(10)"
      ],
      "metadata": {
        "colab": {
          "base_uri": "https://localhost:8080/"
        },
        "id": "78kSnccS1tk1",
        "outputId": "1dc8a720-bf71-411b-9c6d-878295a501ce"
      },
      "execution_count": null,
      "outputs": [
        {
          "output_type": "execute_result",
          "data": {
            "text/plain": [
              "tensor([-9, -8, -7])"
            ]
          },
          "metadata": {},
          "execution_count": 143
        },
        {
          "output_type": "execute_result",
          "data": {
            "text/plain": [
              "tensor([-9, -8, -7])"
            ]
          },
          "metadata": {},
          "execution_count": 231
        }
      ]
    },
    {
      "cell_type": "code",
      "source": [
        " #matrix multiplication for fixing shape issue\n",
        " Tensor_A = torch.tensor([[1,2,3] , [4,5,6]])\n",
        " Tensor_A"
      ],
      "metadata": {
        "colab": {
          "base_uri": "https://localhost:8080/"
        },
        "id": "WF-VrkMb2Cs0",
        "outputId": "6398da46-bb66-4cf6-d102-80d842a53c38"
      },
      "execution_count": null,
      "outputs": [
        {
          "output_type": "execute_result",
          "data": {
            "text/plain": [
              "tensor([[1, 2, 3],\n",
              "        [4, 5, 6]])"
            ]
          },
          "metadata": {},
          "execution_count": 144
        },
        {
          "output_type": "execute_result",
          "data": {
            "text/plain": [
              "tensor([[1, 2, 3],\n",
              "        [4, 5, 6]])"
            ]
          },
          "metadata": {},
          "execution_count": 232
        }
      ]
    },
    {
      "cell_type": "code",
      "source": [
        "Tensor_B = torch.tensor([[1,2,3] , [4,5,6]])\n",
        "Tensor_B"
      ],
      "metadata": {
        "colab": {
          "base_uri": "https://localhost:8080/"
        },
        "id": "qAF1K9RT6geo",
        "outputId": "55888125-4f3a-4424-a3be-3723e8114883"
      },
      "execution_count": null,
      "outputs": [
        {
          "output_type": "execute_result",
          "data": {
            "text/plain": [
              "tensor([[1, 2, 3],\n",
              "        [4, 5, 6]])"
            ]
          },
          "metadata": {},
          "execution_count": 145
        },
        {
          "output_type": "execute_result",
          "data": {
            "text/plain": [
              "tensor([[1, 2, 3],\n",
              "        [4, 5, 6]])"
            ]
          },
          "metadata": {},
          "execution_count": 233
        }
      ]
    },
    {
      "cell_type": "code",
      "source": [
        "torch.mm(Tensor_A , Tensor_B.T).shape"
      ],
      "metadata": {
        "colab": {
          "base_uri": "https://localhost:8080/"
        },
        "id": "QBBl48PL6yRW",
        "outputId": "c74f430e-b52c-46ce-c50a-840695d25a19"
      },
      "execution_count": null,
      "outputs": [
        {
          "output_type": "execute_result",
          "data": {
            "text/plain": [
              "torch.Size([2, 2])"
            ]
          },
          "metadata": {},
          "execution_count": 146
        },
        {
          "output_type": "execute_result",
          "data": {
            "text/plain": [
              "torch.Size([2, 2])"
            ]
          },
          "metadata": {},
          "execution_count": 234
        }
      ]
    },
    {
      "cell_type": "code",
      "source": [
        "Tensor_B.shape , Tensor_B.T.shape , Tensor_A.shape"
      ],
      "metadata": {
        "colab": {
          "base_uri": "https://localhost:8080/"
        },
        "id": "tmfPI0V263-V",
        "outputId": "a34f1641-37db-4de0-d142-e4e9d18e5b23"
      },
      "execution_count": null,
      "outputs": [
        {
          "output_type": "execute_result",
          "data": {
            "text/plain": [
              "(torch.Size([2, 3]), torch.Size([3, 2]), torch.Size([2, 3]))"
            ]
          },
          "metadata": {},
          "execution_count": 147
        },
        {
          "output_type": "execute_result",
          "data": {
            "text/plain": [
              "(torch.Size([2, 3]), torch.Size([3, 2]), torch.Size([2, 3]))"
            ]
          },
          "metadata": {},
          "execution_count": 235
        }
      ]
    },
    {
      "cell_type": "code",
      "source": [
        "#min max and average/mean\n",
        "a = torch.arange(10 , 100,10)\n",
        "a.shape"
      ],
      "metadata": {
        "colab": {
          "base_uri": "https://localhost:8080/"
        },
        "id": "qizSae3W7CTv",
        "outputId": "9f520f05-c248-4136-85f1-d91ce6496782"
      },
      "execution_count": null,
      "outputs": [
        {
          "output_type": "execute_result",
          "data": {
            "text/plain": [
              "torch.Size([9])"
            ]
          },
          "metadata": {},
          "execution_count": 148
        },
        {
          "output_type": "execute_result",
          "data": {
            "text/plain": [
              "torch.Size([9])"
            ]
          },
          "metadata": {},
          "execution_count": 236
        }
      ]
    },
    {
      "cell_type": "code",
      "source": [
        "a.min() , torch.min(a) , a.max() , torch.max(a),torch.mean(a.type(torch.half)) #for mean convert data type to float"
      ],
      "metadata": {
        "colab": {
          "base_uri": "https://localhost:8080/"
        },
        "id": "jrYphL7LIZ1K",
        "outputId": "37d4d62c-9e52-4a39-ee3c-8c3dd1863fb0"
      },
      "execution_count": null,
      "outputs": [
        {
          "output_type": "execute_result",
          "data": {
            "text/plain": [
              "(tensor(10),\n",
              " tensor(10),\n",
              " tensor(90),\n",
              " tensor(90),\n",
              " tensor(50., dtype=torch.float16))"
            ]
          },
          "metadata": {},
          "execution_count": 149
        },
        {
          "output_type": "execute_result",
          "data": {
            "text/plain": [
              "(tensor(10),\n",
              " tensor(10),\n",
              " tensor(90),\n",
              " tensor(90),\n",
              " tensor(50., dtype=torch.float16))"
            ]
          },
          "metadata": {},
          "execution_count": 237
        }
      ]
    },
    {
      "cell_type": "code",
      "source": [
        "a.type(torch.half).mean() , torch.mean(a.type(torch.half))"
      ],
      "metadata": {
        "colab": {
          "base_uri": "https://localhost:8080/"
        },
        "id": "icNg7TO3It1l",
        "outputId": "f6055439-a7d2-4b69-d302-938db8fb1cb0"
      },
      "execution_count": null,
      "outputs": [
        {
          "output_type": "execute_result",
          "data": {
            "text/plain": [
              "(tensor(50., dtype=torch.float16), tensor(50., dtype=torch.float16))"
            ]
          },
          "metadata": {},
          "execution_count": 150
        },
        {
          "output_type": "execute_result",
          "data": {
            "text/plain": [
              "(tensor(50., dtype=torch.float16), tensor(50., dtype=torch.float16))"
            ]
          },
          "metadata": {},
          "execution_count": 238
        }
      ]
    },
    {
      "cell_type": "code",
      "source": [
        "torch.sum(a) , a.sum()"
      ],
      "metadata": {
        "colab": {
          "base_uri": "https://localhost:8080/"
        },
        "id": "OkOsWH_KIxVr",
        "outputId": "168da1e8-31b1-4318-d358-52b77f63493d"
      },
      "execution_count": null,
      "outputs": [
        {
          "output_type": "execute_result",
          "data": {
            "text/plain": [
              "(tensor(450), tensor(450))"
            ]
          },
          "metadata": {},
          "execution_count": 151
        },
        {
          "output_type": "execute_result",
          "data": {
            "text/plain": [
              "(tensor(450), tensor(450))"
            ]
          },
          "metadata": {},
          "execution_count": 239
        }
      ]
    },
    {
      "cell_type": "code",
      "source": [
        "torch.argmin(a) , a.argmax() #following will help us to return the index of the list"
      ],
      "metadata": {
        "colab": {
          "base_uri": "https://localhost:8080/"
        },
        "id": "vc9YbfgeJQN5",
        "outputId": "ad6d5ae2-c2a1-42ec-92be-22645e35bf56"
      },
      "execution_count": null,
      "outputs": [
        {
          "output_type": "execute_result",
          "data": {
            "text/plain": [
              "(tensor(0), tensor(8))"
            ]
          },
          "metadata": {},
          "execution_count": 152
        },
        {
          "output_type": "execute_result",
          "data": {
            "text/plain": [
              "(tensor(0), tensor(8))"
            ]
          },
          "metadata": {},
          "execution_count": 240
        }
      ]
    },
    {
      "cell_type": "code",
      "source": [
        "a.argsort()"
      ],
      "metadata": {
        "colab": {
          "base_uri": "https://localhost:8080/"
        },
        "id": "GtXpRsNwJ5m9",
        "outputId": "c3524a0c-c775-4924-8c38-684e0924c13d"
      },
      "execution_count": null,
      "outputs": [
        {
          "output_type": "execute_result",
          "data": {
            "text/plain": [
              "tensor([0, 1, 2, 3, 4, 5, 6, 7, 8])"
            ]
          },
          "metadata": {},
          "execution_count": 153
        },
        {
          "output_type": "execute_result",
          "data": {
            "text/plain": [
              "tensor([0, 1, 2, 3, 4, 5, 6, 7, 8])"
            ]
          },
          "metadata": {},
          "execution_count": 241
        }
      ]
    },
    {
      "cell_type": "code",
      "source": [
        "a.sort()"
      ],
      "metadata": {
        "colab": {
          "base_uri": "https://localhost:8080/"
        },
        "id": "fIUtEkXeKI7u",
        "outputId": "b481124b-f4e9-4fda-b6fd-1f5a9db6fb46"
      },
      "execution_count": null,
      "outputs": [
        {
          "output_type": "execute_result",
          "data": {
            "text/plain": [
              "torch.return_types.sort(\n",
              "values=tensor([10, 20, 30, 40, 50, 60, 70, 80, 90]),\n",
              "indices=tensor([0, 1, 2, 3, 4, 5, 6, 7, 8]))"
            ]
          },
          "metadata": {},
          "execution_count": 154
        },
        {
          "output_type": "execute_result",
          "data": {
            "text/plain": [
              "torch.return_types.sort(\n",
              "values=tensor([10, 20, 30, 40, 50, 60, 70, 80, 90]),\n",
              "indices=tensor([0, 1, 2, 3, 4, 5, 6, 7, 8]))"
            ]
          },
          "metadata": {},
          "execution_count": 242
        }
      ]
    },
    {
      "cell_type": "code",
      "source": [
        "#reshape\n",
        "a.shape"
      ],
      "metadata": {
        "colab": {
          "base_uri": "https://localhost:8080/"
        },
        "id": "68vq-C8sKXwn",
        "outputId": "63884134-6dc1-4f6d-83ba-ff03756b9b53"
      },
      "execution_count": null,
      "outputs": [
        {
          "output_type": "execute_result",
          "data": {
            "text/plain": [
              "torch.Size([9])"
            ]
          },
          "metadata": {},
          "execution_count": 155
        },
        {
          "output_type": "execute_result",
          "data": {
            "text/plain": [
              "torch.Size([9])"
            ]
          },
          "metadata": {},
          "execution_count": 243
        }
      ]
    },
    {
      "cell_type": "code",
      "source": [
        "newa = a.reshape(9,1)\n",
        "newa , a"
      ],
      "metadata": {
        "colab": {
          "base_uri": "https://localhost:8080/"
        },
        "id": "C2sO_OePRnso",
        "outputId": "e8e96234-4c6f-4c25-9460-8697c3640340"
      },
      "execution_count": null,
      "outputs": [
        {
          "output_type": "execute_result",
          "data": {
            "text/plain": [
              "(tensor([[10],\n",
              "         [20],\n",
              "         [30],\n",
              "         [40],\n",
              "         [50],\n",
              "         [60],\n",
              "         [70],\n",
              "         [80],\n",
              "         [90]]),\n",
              " tensor([10, 20, 30, 40, 50, 60, 70, 80, 90]))"
            ]
          },
          "metadata": {},
          "execution_count": 156
        },
        {
          "output_type": "execute_result",
          "data": {
            "text/plain": [
              "(tensor([[10],\n",
              "         [20],\n",
              "         [30],\n",
              "         [40],\n",
              "         [50],\n",
              "         [60],\n",
              "         [70],\n",
              "         [80],\n",
              "         [90]]),\n",
              " tensor([10, 20, 30, 40, 50, 60, 70, 80, 90]))"
            ]
          },
          "metadata": {},
          "execution_count": 244
        }
      ]
    },
    {
      "cell_type": "code",
      "source": [
        "b = torch.arange(110 , 200 , 10)\n",
        "b , b.shape , b.dtype"
      ],
      "metadata": {
        "colab": {
          "base_uri": "https://localhost:8080/"
        },
        "id": "3Cn7zbR7I9lS",
        "outputId": "abdf180e-ef56-4e61-cd96-97dc0d8aaeda"
      },
      "execution_count": null,
      "outputs": [
        {
          "output_type": "execute_result",
          "data": {
            "text/plain": [
              "(tensor([110, 120, 130, 140, 150, 160, 170, 180, 190]),\n",
              " torch.Size([9]),\n",
              " torch.int64)"
            ]
          },
          "metadata": {},
          "execution_count": 157
        },
        {
          "output_type": "execute_result",
          "data": {
            "text/plain": [
              "(tensor([110, 120, 130, 140, 150, 160, 170, 180, 190]),\n",
              " torch.Size([9]),\n",
              " torch.int64)"
            ]
          },
          "metadata": {},
          "execution_count": 245
        }
      ]
    },
    {
      "cell_type": "code",
      "source": [
        "#stack a tensor on top of each other\n",
        "x_stack = torch.stack([a,b,a,b], dim=0)   #to stack on each other the tensors should be of same shape.\n",
        "x_stack"
      ],
      "metadata": {
        "colab": {
          "base_uri": "https://localhost:8080/"
        },
        "id": "62EN0ho5RwBe",
        "outputId": "fd8037b8-4b17-41bf-e64d-229f43dd692d"
      },
      "execution_count": null,
      "outputs": [
        {
          "output_type": "execute_result",
          "data": {
            "text/plain": [
              "tensor([[ 10,  20,  30,  40,  50,  60,  70,  80,  90],\n",
              "        [110, 120, 130, 140, 150, 160, 170, 180, 190],\n",
              "        [ 10,  20,  30,  40,  50,  60,  70,  80,  90],\n",
              "        [110, 120, 130, 140, 150, 160, 170, 180, 190]])"
            ]
          },
          "metadata": {},
          "execution_count": 158
        },
        {
          "output_type": "execute_result",
          "data": {
            "text/plain": [
              "tensor([[ 10,  20,  30,  40,  50,  60,  70,  80,  90],\n",
              "        [110, 120, 130, 140, 150, 160, 170, 180, 190],\n",
              "        [ 10,  20,  30,  40,  50,  60,  70,  80,  90],\n",
              "        [110, 120, 130, 140, 150, 160, 170, 180, 190]])"
            ]
          },
          "metadata": {},
          "execution_count": 246
        }
      ]
    },
    {
      "cell_type": "code",
      "source": [
        "#squeez and unsqueeze\n",
        "x_squeeze = b.squeeze()\n",
        "x_squeeze.shape"
      ],
      "metadata": {
        "colab": {
          "base_uri": "https://localhost:8080/"
        },
        "id": "OGgloZ2_UzdN",
        "outputId": "b663ba13-5416-4e6a-d8f8-1c418a04037b"
      },
      "execution_count": null,
      "outputs": [
        {
          "output_type": "execute_result",
          "data": {
            "text/plain": [
              "torch.Size([9])"
            ]
          },
          "metadata": {},
          "execution_count": 159
        },
        {
          "output_type": "execute_result",
          "data": {
            "text/plain": [
              "torch.Size([9])"
            ]
          },
          "metadata": {},
          "execution_count": 247
        }
      ]
    },
    {
      "cell_type": "code",
      "source": [
        "unx_squeeze = b.unsqueeze(dim =1)\n",
        "unx_squeeze.shape"
      ],
      "metadata": {
        "colab": {
          "base_uri": "https://localhost:8080/"
        },
        "id": "6ydq-EDBXaoP",
        "outputId": "30ba8349-f22b-4306-9a2a-1d428370290b"
      },
      "execution_count": null,
      "outputs": [
        {
          "output_type": "execute_result",
          "data": {
            "text/plain": [
              "torch.Size([9, 1])"
            ]
          },
          "metadata": {},
          "execution_count": 160
        },
        {
          "output_type": "execute_result",
          "data": {
            "text/plain": [
              "torch.Size([9, 1])"
            ]
          },
          "metadata": {},
          "execution_count": 248
        }
      ]
    },
    {
      "cell_type": "code",
      "source": [
        "#rearrganging dimensions or shape in tensors using permute be aware it like view which means it shares same memory space\n",
        "image_1 = torch.rand(size =(224 , 224 , 3))\n",
        "image_1.shape"
      ],
      "metadata": {
        "colab": {
          "base_uri": "https://localhost:8080/"
        },
        "id": "CvzQHH7EXycj",
        "outputId": "ae3865c7-f54b-4137-c086-2465307870d4"
      },
      "execution_count": null,
      "outputs": [
        {
          "output_type": "execute_result",
          "data": {
            "text/plain": [
              "torch.Size([224, 224, 3])"
            ]
          },
          "metadata": {},
          "execution_count": 161
        },
        {
          "output_type": "execute_result",
          "data": {
            "text/plain": [
              "torch.Size([224, 224, 3])"
            ]
          },
          "metadata": {},
          "execution_count": 249
        }
      ]
    },
    {
      "cell_type": "code",
      "source": [
        "permuted_image = image_1.permute(2,0,1)\n",
        "permuted_image.shape"
      ],
      "metadata": {
        "colab": {
          "base_uri": "https://localhost:8080/"
        },
        "id": "YdryIXPpapE9",
        "outputId": "5b188314-078b-4b7e-9ac7-41179205b26c"
      },
      "execution_count": null,
      "outputs": [
        {
          "output_type": "execute_result",
          "data": {
            "text/plain": [
              "torch.Size([3, 224, 224])"
            ]
          },
          "metadata": {},
          "execution_count": 162
        },
        {
          "output_type": "execute_result",
          "data": {
            "text/plain": [
              "torch.Size([3, 224, 224])"
            ]
          },
          "metadata": {},
          "execution_count": 250
        }
      ]
    },
    {
      "cell_type": "code",
      "source": [
        "#learn indexing\n",
        "x = torch.arange(1,10).reshape(1,3,3)\n",
        "x"
      ],
      "metadata": {
        "colab": {
          "base_uri": "https://localhost:8080/"
        },
        "id": "ayG62IeVa2CM",
        "outputId": "eabb7c6d-dbe6-46fd-ec78-a9d6e348534a"
      },
      "execution_count": null,
      "outputs": [
        {
          "output_type": "execute_result",
          "data": {
            "text/plain": [
              "tensor([[[1, 2, 3],\n",
              "         [4, 5, 6],\n",
              "         [7, 8, 9]]])"
            ]
          },
          "metadata": {},
          "execution_count": 163
        },
        {
          "output_type": "execute_result",
          "data": {
            "text/plain": [
              "tensor([[[1, 2, 3],\n",
              "         [4, 5, 6],\n",
              "         [7, 8, 9]]])"
            ]
          },
          "metadata": {},
          "execution_count": 251
        }
      ]
    },
    {
      "cell_type": "code",
      "source": [
        "x[0]"
      ],
      "metadata": {
        "colab": {
          "base_uri": "https://localhost:8080/"
        },
        "id": "Cotf-JsbbXgO",
        "outputId": "fe174a2b-bafb-45fd-ca20-2c778cb8752c"
      },
      "execution_count": null,
      "outputs": [
        {
          "output_type": "execute_result",
          "data": {
            "text/plain": [
              "tensor([[1, 2, 3],\n",
              "        [4, 5, 6],\n",
              "        [7, 8, 9]])"
            ]
          },
          "metadata": {},
          "execution_count": 164
        },
        {
          "output_type": "execute_result",
          "data": {
            "text/plain": [
              "tensor([[1, 2, 3],\n",
              "        [4, 5, 6],\n",
              "        [7, 8, 9]])"
            ]
          },
          "metadata": {},
          "execution_count": 252
        }
      ]
    },
    {
      "cell_type": "code",
      "source": [
        "x[0][2][0]"
      ],
      "metadata": {
        "colab": {
          "base_uri": "https://localhost:8080/"
        },
        "id": "ASXq1cOabcXh",
        "outputId": "efa9c315-4a97-4aac-b9f0-a8796233dff7"
      },
      "execution_count": null,
      "outputs": [
        {
          "output_type": "execute_result",
          "data": {
            "text/plain": [
              "tensor(7)"
            ]
          },
          "metadata": {},
          "execution_count": 165
        },
        {
          "output_type": "execute_result",
          "data": {
            "text/plain": [
              "tensor(7)"
            ]
          },
          "metadata": {},
          "execution_count": 253
        }
      ]
    },
    {
      "cell_type": "code",
      "source": [
        "x[0,2,2]"
      ],
      "metadata": {
        "colab": {
          "base_uri": "https://localhost:8080/"
        },
        "id": "nJMTzOj87IPj",
        "outputId": "0e805ca3-4044-46b8-8608-e66ae7932ccd"
      },
      "execution_count": null,
      "outputs": [
        {
          "output_type": "execute_result",
          "data": {
            "text/plain": [
              "tensor(9)"
            ]
          },
          "metadata": {},
          "execution_count": 166
        },
        {
          "output_type": "execute_result",
          "data": {
            "text/plain": [
              "tensor(9)"
            ]
          },
          "metadata": {},
          "execution_count": 254
        }
      ]
    },
    {
      "cell_type": "code",
      "source": [
        "x[:,:,2]"
      ],
      "metadata": {
        "colab": {
          "base_uri": "https://localhost:8080/"
        },
        "id": "sFgxcsSV7QVu",
        "outputId": "b6025eea-7460-484f-bf03-39170441e774"
      },
      "execution_count": null,
      "outputs": [
        {
          "output_type": "execute_result",
          "data": {
            "text/plain": [
              "tensor([[3, 6, 9]])"
            ]
          },
          "metadata": {},
          "execution_count": 167
        },
        {
          "output_type": "execute_result",
          "data": {
            "text/plain": [
              "tensor([[3, 6, 9]])"
            ]
          },
          "metadata": {},
          "execution_count": 255
        }
      ]
    },
    {
      "cell_type": "code",
      "source": [
        "x[:,1,1]"
      ],
      "metadata": {
        "colab": {
          "base_uri": "https://localhost:8080/"
        },
        "id": "NcdhBg_A89k_",
        "outputId": "9addbadf-c1d3-4bf1-f07f-c65d3a985d63"
      },
      "execution_count": null,
      "outputs": [
        {
          "output_type": "execute_result",
          "data": {
            "text/plain": [
              "tensor([5])"
            ]
          },
          "metadata": {},
          "execution_count": 168
        },
        {
          "output_type": "execute_result",
          "data": {
            "text/plain": [
              "tensor([5])"
            ]
          },
          "metadata": {},
          "execution_count": 256
        }
      ]
    },
    {
      "cell_type": "code",
      "source": [
        "x[0,0,:]"
      ],
      "metadata": {
        "colab": {
          "base_uri": "https://localhost:8080/"
        },
        "id": "ql06FmKQ9P5R",
        "outputId": "453d4f9d-c0e8-4527-bf1f-017bb6ba2ce0"
      },
      "execution_count": null,
      "outputs": [
        {
          "output_type": "execute_result",
          "data": {
            "text/plain": [
              "tensor([1, 2, 3])"
            ]
          },
          "metadata": {},
          "execution_count": 169
        },
        {
          "output_type": "execute_result",
          "data": {
            "text/plain": [
              "tensor([1, 2, 3])"
            ]
          },
          "metadata": {},
          "execution_count": 257
        }
      ]
    },
    {
      "cell_type": "code",
      "source": [
        "#challenge to return 9\n",
        "x[:,2,2]"
      ],
      "metadata": {
        "colab": {
          "base_uri": "https://localhost:8080/"
        },
        "id": "zYSxsAgp9jsP",
        "outputId": "49da6216-ecc3-4356-c60d-84515d3b88cb"
      },
      "execution_count": null,
      "outputs": [
        {
          "output_type": "execute_result",
          "data": {
            "text/plain": [
              "tensor([9])"
            ]
          },
          "metadata": {},
          "execution_count": 170
        },
        {
          "output_type": "execute_result",
          "data": {
            "text/plain": [
              "tensor([9])"
            ]
          },
          "metadata": {},
          "execution_count": 258
        }
      ]
    },
    {
      "cell_type": "code",
      "source": [
        "x[0,2,2]"
      ],
      "metadata": {
        "colab": {
          "base_uri": "https://localhost:8080/"
        },
        "id": "rTPdkceH91kP",
        "outputId": "02577905-c248-48d8-dff2-64d58802d8ca"
      },
      "execution_count": null,
      "outputs": [
        {
          "output_type": "execute_result",
          "data": {
            "text/plain": [
              "tensor(9)"
            ]
          },
          "metadata": {},
          "execution_count": 171
        },
        {
          "output_type": "execute_result",
          "data": {
            "text/plain": [
              "tensor(9)"
            ]
          },
          "metadata": {},
          "execution_count": 259
        }
      ]
    },
    {
      "cell_type": "code",
      "source": [
        "x[:,:,2]"
      ],
      "metadata": {
        "colab": {
          "base_uri": "https://localhost:8080/"
        },
        "id": "bqeGiJvO976o",
        "outputId": "65c89c5f-2fad-438d-bd2b-6a95ba0d61dd"
      },
      "execution_count": null,
      "outputs": [
        {
          "output_type": "execute_result",
          "data": {
            "text/plain": [
              "tensor([[3, 6, 9]])"
            ]
          },
          "metadata": {},
          "execution_count": 172
        },
        {
          "output_type": "execute_result",
          "data": {
            "text/plain": [
              "tensor([[3, 6, 9]])"
            ]
          },
          "metadata": {},
          "execution_count": 260
        }
      ]
    },
    {
      "cell_type": "code",
      "source": [
        "#numpy array to tensor\n",
        "array = np.arange(1,10,2)\n",
        "array , array.dtype"
      ],
      "metadata": {
        "colab": {
          "base_uri": "https://localhost:8080/"
        },
        "id": "f0VYd1ZO-HEp",
        "outputId": "c4822640-7cbc-4fee-b3ba-9b28077871b3"
      },
      "execution_count": null,
      "outputs": [
        {
          "output_type": "execute_result",
          "data": {
            "text/plain": [
              "(array([1, 3, 5, 7, 9]), dtype('int64'))"
            ]
          },
          "metadata": {},
          "execution_count": 173
        },
        {
          "output_type": "execute_result",
          "data": {
            "text/plain": [
              "(array([1, 3, 5, 7, 9]), dtype('int64'))"
            ]
          },
          "metadata": {},
          "execution_count": 261
        }
      ]
    },
    {
      "cell_type": "code",
      "source": [
        "tarray = torch.from_numpy(array).type(torch.float32)\n",
        "tarray , tarray.dtype"
      ],
      "metadata": {
        "colab": {
          "base_uri": "https://localhost:8080/"
        },
        "id": "pfnYKe4YAU1E",
        "outputId": "6f584d5b-c868-4619-bc3c-d9d81f94712d"
      },
      "execution_count": null,
      "outputs": [
        {
          "output_type": "execute_result",
          "data": {
            "text/plain": [
              "(tensor([1., 3., 5., 7., 9.]), torch.float32)"
            ]
          },
          "metadata": {},
          "execution_count": 174
        },
        {
          "output_type": "execute_result",
          "data": {
            "text/plain": [
              "(tensor([1., 3., 5., 7., 9.]), torch.float32)"
            ]
          },
          "metadata": {},
          "execution_count": 262
        }
      ]
    },
    {
      "cell_type": "code",
      "source": [
        "array+1"
      ],
      "metadata": {
        "colab": {
          "base_uri": "https://localhost:8080/"
        },
        "id": "O5vylWazAfZz",
        "outputId": "1687045b-57cc-4f89-8503-10aea73dbc92"
      },
      "execution_count": null,
      "outputs": [
        {
          "output_type": "execute_result",
          "data": {
            "text/plain": [
              "array([ 2,  4,  6,  8, 10])"
            ]
          },
          "metadata": {},
          "execution_count": 175
        },
        {
          "output_type": "execute_result",
          "data": {
            "text/plain": [
              "array([ 2,  4,  6,  8, 10])"
            ]
          },
          "metadata": {},
          "execution_count": 263
        }
      ]
    },
    {
      "cell_type": "code",
      "source": [
        "tarray.dtype"
      ],
      "metadata": {
        "colab": {
          "base_uri": "https://localhost:8080/"
        },
        "id": "IHle3OHJBN1s",
        "outputId": "c0fa6fd7-64a9-409e-bb22-47c39f3f9da7"
      },
      "execution_count": null,
      "outputs": [
        {
          "output_type": "execute_result",
          "data": {
            "text/plain": [
              "torch.float32"
            ]
          },
          "metadata": {},
          "execution_count": 176
        },
        {
          "output_type": "execute_result",
          "data": {
            "text/plain": [
              "torch.float32"
            ]
          },
          "metadata": {},
          "execution_count": 264
        }
      ]
    },
    {
      "cell_type": "code",
      "source": [
        "narray = tarray.numpy()\n",
        "narray.dtype, array.dtype , tarray.dtype"
      ],
      "metadata": {
        "colab": {
          "base_uri": "https://localhost:8080/"
        },
        "id": "eacHK9y5BpXf",
        "outputId": "9ddc0ce3-2af4-438d-b0d9-8c113818b480"
      },
      "execution_count": null,
      "outputs": [
        {
          "output_type": "execute_result",
          "data": {
            "text/plain": [
              "(dtype('float32'), dtype('int64'), torch.float32)"
            ]
          },
          "metadata": {},
          "execution_count": 177
        },
        {
          "output_type": "execute_result",
          "data": {
            "text/plain": [
              "(dtype('float32'), dtype('int64'), torch.float32)"
            ]
          },
          "metadata": {},
          "execution_count": 265
        }
      ]
    },
    {
      "cell_type": "code",
      "source": [
        "#random seeds for reproducibility\n",
        "Tensors_A = torch.rand(3,4)\n",
        "Tensors_B = torch.rand(3,4)\n",
        "print(Tensors_A == Tensors_B)"
      ],
      "metadata": {
        "colab": {
          "base_uri": "https://localhost:8080/"
        },
        "id": "rKu-QA3UBxNn",
        "outputId": "da199c9a-5965-4607-8c33-0254775c5459"
      },
      "execution_count": null,
      "outputs": [
        {
          "output_type": "stream",
          "name": "stdout",
          "text": [
            "tensor([[False, False, False, False],\n",
            "        [False, False, False, False],\n",
            "        [False, False, False, False]])\n",
            "tensor([[False, False, False, False],\n",
            "        [False, False, False, False],\n",
            "        [False, False, False, False]])\n"
          ]
        }
      ]
    },
    {
      "cell_type": "code",
      "source": [
        "#Random seed declaration\n",
        "random_seeds = 77\n",
        "torch.manual_seed(random_seeds)  #used to reduce randomness in rand genertation\n",
        "Tensor_C = torch.rand(3,4)\n",
        "torch.manual_seed(random_seeds)\n",
        "Tensor_D = torch.rand(3,4)\n",
        "print(Tensor_C == Tensor_D)"
      ],
      "metadata": {
        "colab": {
          "base_uri": "https://localhost:8080/"
        },
        "id": "p996fR9N1Ik8",
        "outputId": "91c8659c-9a33-4b8e-da1c-81f1c0ed3d7d"
      },
      "execution_count": null,
      "outputs": [
        {
          "output_type": "stream",
          "name": "stdout",
          "text": [
            "tensor([[True, True, True, True],\n",
            "        [True, True, True, True],\n",
            "        [True, True, True, True]])\n",
            "tensor([[True, True, True, True],\n",
            "        [True, True, True, True],\n",
            "        [True, True, True, True]])\n"
          ]
        }
      ]
    },
    {
      "cell_type": "code",
      "source": [
        "torch.cuda.is_available() #check if GPU is available or not"
      ],
      "metadata": {
        "id": "PuZGWnvc1vRz",
        "colab": {
          "base_uri": "https://localhost:8080/"
        },
        "outputId": "3ab75cd5-1d29-4c1e-d21e-9bc9b87e953e"
      },
      "execution_count": null,
      "outputs": [
        {
          "output_type": "execute_result",
          "data": {
            "text/plain": [
              "True"
            ]
          },
          "metadata": {},
          "execution_count": 274
        }
      ]
    },
    {
      "cell_type": "code",
      "source": [
        "#for shortcut to check GPU or CPU\n",
        "device = \"cuda\" if torch.cuda.is_available() else \"cpu\"\n",
        "device"
      ],
      "metadata": {
        "colab": {
          "base_uri": "https://localhost:8080/",
          "height": 35
        },
        "id": "q3f_-kgN_1LK",
        "outputId": "6c2fa299-7acb-4787-f372-4a0518fdf8f3"
      },
      "execution_count": null,
      "outputs": [
        {
          "output_type": "execute_result",
          "data": {
            "text/plain": [
              "'cuda'"
            ],
            "application/vnd.google.colaboratory.intrinsic+json": {
              "type": "string"
            }
          },
          "metadata": {},
          "execution_count": 284
        }
      ]
    },
    {
      "cell_type": "code",
      "source": [
        "#To count number GPU available\n",
        "torch.cuda.device_count()"
      ],
      "metadata": {
        "colab": {
          "base_uri": "https://localhost:8080/"
        },
        "id": "quqv2lgVAYo5",
        "outputId": "25a6b31f-66c6-4973-dfdc-0c8656d3f214"
      },
      "execution_count": null,
      "outputs": [
        {
          "output_type": "execute_result",
          "data": {
            "text/plain": [
              "1"
            ]
          },
          "metadata": {},
          "execution_count": 281
        }
      ]
    },
    {
      "cell_type": "code",
      "source": [
        "tensor_cpu = torch.tensor([1,2,3])\n",
        "tensor_cpu , tensor_cpu.device"
      ],
      "metadata": {
        "colab": {
          "base_uri": "https://localhost:8080/"
        },
        "id": "Ks8JH07TCFxz",
        "outputId": "24124dfa-7460-4f31-b09d-1f1583b6f28e"
      },
      "execution_count": null,
      "outputs": [
        {
          "output_type": "execute_result",
          "data": {
            "text/plain": [
              "(tensor([1, 2, 3]), device(type='cpu'))"
            ]
          },
          "metadata": {},
          "execution_count": 278
        }
      ]
    },
    {
      "cell_type": "code",
      "source": [
        "#Change to GPU\n",
        "tensor_gpu = tensor_cpu.to(device)\n",
        "tensor_gpu"
      ],
      "metadata": {
        "colab": {
          "base_uri": "https://localhost:8080/"
        },
        "id": "Anq6qlNHCdwZ",
        "outputId": "bc97bbaa-16b0-4275-e998-f6308199d0e6"
      },
      "execution_count": null,
      "outputs": [
        {
          "output_type": "execute_result",
          "data": {
            "text/plain": [
              "tensor([1, 2, 3], device='cuda:0')"
            ]
          },
          "metadata": {},
          "execution_count": 285
        }
      ]
    },
    {
      "cell_type": "code",
      "source": [
        "#to work with numpy we need to transfer the device back to cpu or else it wont work.\n",
        "tensor_gpu.cpu().numpy()"
      ],
      "metadata": {
        "colab": {
          "base_uri": "https://localhost:8080/"
        },
        "id": "-9mUZex3DKuT",
        "outputId": "4c6813ea-a6bb-4518-ecdc-5f388858bc6c"
      },
      "execution_count": null,
      "outputs": [
        {
          "output_type": "execute_result",
          "data": {
            "text/plain": [
              "array([1, 2, 3])"
            ]
          },
          "metadata": {},
          "execution_count": 289
        }
      ]
    },
    {
      "cell_type": "code",
      "source": [],
      "metadata": {
        "colab": {
          "base_uri": "https://localhost:8080/"
        },
        "id": "v7zIUBiIFdgt",
        "outputId": "894e9610-fdd3-442b-8e79-90f9eea09f36"
      },
      "execution_count": null,
      "outputs": [
        {
          "output_type": "execute_result",
          "data": {
            "text/plain": [
              "(tensor([[0.4946, 0.9831, 0.5134, 0.2580, 0.5002, 0.6152, 0.6283],\n",
              "         [0.6972, 0.5420, 0.5651, 0.0891, 0.8486, 0.1901, 0.3035],\n",
              "         [0.6512, 0.4057, 0.8156, 0.6753, 0.9405, 0.6498, 0.6329],\n",
              "         [0.6110, 0.1847, 0.5707, 0.6729, 0.3982, 0.2390, 0.2084],\n",
              "         [0.7921, 0.1592, 0.9983, 0.4600, 0.6405, 0.8427, 0.8737],\n",
              "         [0.6508, 0.1006, 0.5123, 0.2961, 0.0813, 0.3255, 0.7400],\n",
              "         [0.5685, 0.9510, 0.2281, 0.7452, 0.9047, 0.1822, 0.9578]]),\n",
              " torch.Size([7, 7]))"
            ]
          },
          "metadata": {},
          "execution_count": 290
        }
      ]
    }
  ]
}